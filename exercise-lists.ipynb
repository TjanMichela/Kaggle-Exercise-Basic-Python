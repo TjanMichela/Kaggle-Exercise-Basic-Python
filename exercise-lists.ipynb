{
 "cells": [
  {
   "cell_type": "markdown",
   "id": "0f00516c",
   "metadata": {
    "papermill": {
     "duration": 0.006058,
     "end_time": "2022-09-13T01:28:09.165643",
     "exception": false,
     "start_time": "2022-09-13T01:28:09.159585",
     "status": "completed"
    },
    "tags": []
   },
   "source": [
    "**This notebook is an exercise in the [Python](https://www.kaggle.com/learn/python) course.  You can reference the tutorial at [this link](https://www.kaggle.com/colinmorris/lists).**\n",
    "\n",
    "---\n"
   ]
  },
  {
   "cell_type": "markdown",
   "id": "a8d6b9db",
   "metadata": {
    "papermill": {
     "duration": 0.004584,
     "end_time": "2022-09-13T01:28:09.175698",
     "exception": false,
     "start_time": "2022-09-13T01:28:09.171114",
     "status": "completed"
    },
    "tags": []
   },
   "source": [
    "Things get more interesting with lists. You'll apply your new knowledge to solve the questions below. Remember to run the following cell first."
   ]
  },
  {
   "cell_type": "code",
   "execution_count": 1,
   "id": "d4a8e000",
   "metadata": {
    "execution": {
     "iopub.execute_input": "2022-09-13T01:28:09.188233Z",
     "iopub.status.busy": "2022-09-13T01:28:09.187641Z",
     "iopub.status.idle": "2022-09-13T01:28:09.251339Z",
     "shell.execute_reply": "2022-09-13T01:28:09.250128Z"
    },
    "papermill": {
     "duration": 0.073717,
     "end_time": "2022-09-13T01:28:09.254236",
     "exception": false,
     "start_time": "2022-09-13T01:28:09.180519",
     "status": "completed"
    },
    "tags": []
   },
   "outputs": [
    {
     "name": "stdout",
     "output_type": "stream",
     "text": [
      "Setup complete.\n"
     ]
    }
   ],
   "source": [
    "from learntools.core import binder; binder.bind(globals())\n",
    "from learntools.python.ex4 import *\n",
    "print('Setup complete.')"
   ]
  },
  {
   "cell_type": "markdown",
   "id": "80ad8cf3",
   "metadata": {
    "papermill": {
     "duration": 0.00525,
     "end_time": "2022-09-13T01:28:09.264640",
     "exception": false,
     "start_time": "2022-09-13T01:28:09.259390",
     "status": "completed"
    },
    "tags": []
   },
   "source": [
    "# 1.\n",
    "\n",
    "Complete the function below according to its docstring."
   ]
  },
  {
   "cell_type": "code",
   "execution_count": 2,
   "id": "59a53399",
   "metadata": {
    "execution": {
     "iopub.execute_input": "2022-09-13T01:28:09.276717Z",
     "iopub.status.busy": "2022-09-13T01:28:09.276248Z",
     "iopub.status.idle": "2022-09-13T01:28:09.289110Z",
     "shell.execute_reply": "2022-09-13T01:28:09.287953Z"
    },
    "papermill": {
     "duration": 0.021692,
     "end_time": "2022-09-13T01:28:09.291455",
     "exception": false,
     "start_time": "2022-09-13T01:28:09.269763",
     "status": "completed"
    },
    "tags": []
   },
   "outputs": [
    {
     "data": {
      "application/javascript": [
       "parent.postMessage({\"jupyterEvent\": \"custom.exercise_interaction\", \"data\": {\"outcomeType\": 1, \"valueTowardsCompletion\": 0.2, \"interactionType\": 1, \"questionType\": 2, \"questionId\": \"1_SelectSecondItem\", \"learnToolsVersion\": \"0.3.4\", \"failureMessage\": \"\", \"exceptionClass\": \"\", \"trace\": \"\"}}, \"*\")"
      ],
      "text/plain": [
       "<IPython.core.display.Javascript object>"
      ]
     },
     "metadata": {},
     "output_type": "display_data"
    },
    {
     "data": {
      "text/markdown": [
       "<span style=\"color:#33cc33\">Correct</span>"
      ],
      "text/plain": [
       "Correct"
      ]
     },
     "metadata": {},
     "output_type": "display_data"
    }
   ],
   "source": [
    "def select_second(L):\n",
    "    \"\"\"Return the second element of the given list. If the list has no second\n",
    "    element, return None.\n",
    "    \"\"\"\n",
    "    if len(L) > 1:\n",
    "        return L[1]\n",
    "    else:\n",
    "        return None\n",
    "\n",
    "# Check your answer\n",
    "q1.check()"
   ]
  },
  {
   "cell_type": "code",
   "execution_count": 3,
   "id": "52a8809f",
   "metadata": {
    "collapsed": true,
    "execution": {
     "iopub.execute_input": "2022-09-13T01:28:09.303689Z",
     "iopub.status.busy": "2022-09-13T01:28:09.302947Z",
     "iopub.status.idle": "2022-09-13T01:28:09.307833Z",
     "shell.execute_reply": "2022-09-13T01:28:09.306635Z"
    },
    "jupyter": {
     "outputs_hidden": true
    },
    "papermill": {
     "duration": 0.013447,
     "end_time": "2022-09-13T01:28:09.310095",
     "exception": false,
     "start_time": "2022-09-13T01:28:09.296648",
     "status": "completed"
    },
    "tags": []
   },
   "outputs": [],
   "source": [
    "#q1.hint()\n",
    "#q1.solution()"
   ]
  },
  {
   "cell_type": "markdown",
   "id": "dfd59ef5",
   "metadata": {
    "papermill": {
     "duration": 0.005073,
     "end_time": "2022-09-13T01:28:09.320569",
     "exception": false,
     "start_time": "2022-09-13T01:28:09.315496",
     "status": "completed"
    },
    "tags": []
   },
   "source": [
    "# 2.\n",
    "\n",
    "You are analyzing sports teams.  Members of each team are stored in a list. The Coach is the first name in the list, the captain is the second name in the list, and other players are listed after that. \n",
    "These lists are stored in another list, which starts with the best team and proceeds through the list to the worst team last.  Complete the function below to select the **captain** of the worst team."
   ]
  },
  {
   "cell_type": "code",
   "execution_count": 4,
   "id": "ca8ac4d8",
   "metadata": {
    "execution": {
     "iopub.execute_input": "2022-09-13T01:28:09.333139Z",
     "iopub.status.busy": "2022-09-13T01:28:09.332406Z",
     "iopub.status.idle": "2022-09-13T01:28:09.341999Z",
     "shell.execute_reply": "2022-09-13T01:28:09.340878Z"
    },
    "papermill": {
     "duration": 0.018476,
     "end_time": "2022-09-13T01:28:09.344255",
     "exception": false,
     "start_time": "2022-09-13T01:28:09.325779",
     "status": "completed"
    },
    "tags": []
   },
   "outputs": [
    {
     "data": {
      "application/javascript": [
       "parent.postMessage({\"jupyterEvent\": \"custom.exercise_interaction\", \"data\": {\"outcomeType\": 1, \"valueTowardsCompletion\": 0.2, \"interactionType\": 1, \"questionType\": 2, \"questionId\": \"2_LosingTeamCaptain\", \"learnToolsVersion\": \"0.3.4\", \"failureMessage\": \"\", \"exceptionClass\": \"\", \"trace\": \"\"}}, \"*\")"
      ],
      "text/plain": [
       "<IPython.core.display.Javascript object>"
      ]
     },
     "metadata": {},
     "output_type": "display_data"
    },
    {
     "data": {
      "text/markdown": [
       "<span style=\"color:#33cc33\">Correct</span>"
      ],
      "text/plain": [
       "Correct"
      ]
     },
     "metadata": {},
     "output_type": "display_data"
    }
   ],
   "source": [
    "def losing_team_captain(teams):\n",
    "    \"\"\"Given a list of teams, where each team is a list of names, return the 2nd player (captain)\n",
    "    from the last listed team\n",
    "    \"\"\"\n",
    "    return teams[-1][1]\n",
    "\n",
    "# Check your answer\n",
    "q2.check()"
   ]
  },
  {
   "cell_type": "code",
   "execution_count": 5,
   "id": "1593faea",
   "metadata": {
    "collapsed": true,
    "execution": {
     "iopub.execute_input": "2022-09-13T01:28:09.357132Z",
     "iopub.status.busy": "2022-09-13T01:28:09.356744Z",
     "iopub.status.idle": "2022-09-13T01:28:09.361085Z",
     "shell.execute_reply": "2022-09-13T01:28:09.359965Z"
    },
    "jupyter": {
     "outputs_hidden": true
    },
    "papermill": {
     "duration": 0.013531,
     "end_time": "2022-09-13T01:28:09.363445",
     "exception": false,
     "start_time": "2022-09-13T01:28:09.349914",
     "status": "completed"
    },
    "tags": []
   },
   "outputs": [],
   "source": [
    "#q2.hint()\n",
    "#q2.solution()"
   ]
  },
  {
   "cell_type": "markdown",
   "id": "e8f16181",
   "metadata": {
    "papermill": {
     "duration": 0.005114,
     "end_time": "2022-09-13T01:28:09.374053",
     "exception": false,
     "start_time": "2022-09-13T01:28:09.368939",
     "status": "completed"
    },
    "tags": []
   },
   "source": [
    "# 3.\n",
    "\n",
    "The next iteration of Mario Kart will feature an extra-infuriating new item, the *Purple Shell*. When used, it warps the last place racer into first place and the first place racer into last place. Complete the function below to implement the Purple Shell's effect."
   ]
  },
  {
   "cell_type": "code",
   "execution_count": 6,
   "id": "1854238f",
   "metadata": {
    "execution": {
     "iopub.execute_input": "2022-09-13T01:28:09.386620Z",
     "iopub.status.busy": "2022-09-13T01:28:09.386215Z",
     "iopub.status.idle": "2022-09-13T01:28:09.394592Z",
     "shell.execute_reply": "2022-09-13T01:28:09.393837Z"
    },
    "papermill": {
     "duration": 0.017114,
     "end_time": "2022-09-13T01:28:09.396618",
     "exception": false,
     "start_time": "2022-09-13T01:28:09.379504",
     "status": "completed"
    },
    "tags": []
   },
   "outputs": [
    {
     "data": {
      "application/javascript": [
       "parent.postMessage({\"jupyterEvent\": \"custom.exercise_interaction\", \"data\": {\"outcomeType\": 1, \"valueTowardsCompletion\": 0.2, \"interactionType\": 1, \"questionType\": 2, \"questionId\": \"3_PurpleShell\", \"learnToolsVersion\": \"0.3.4\", \"failureMessage\": \"\", \"exceptionClass\": \"\", \"trace\": \"\"}}, \"*\")"
      ],
      "text/plain": [
       "<IPython.core.display.Javascript object>"
      ]
     },
     "metadata": {},
     "output_type": "display_data"
    },
    {
     "data": {
      "text/markdown": [
       "<span style=\"color:#33cc33\">Correct</span>"
      ],
      "text/plain": [
       "Correct"
      ]
     },
     "metadata": {},
     "output_type": "display_data"
    }
   ],
   "source": [
    "def purple_shell(racers):\n",
    "    \"\"\"Given a list of racers, set the first place racer (at the front of the list) to last\n",
    "    place and vice versa.\n",
    "    \n",
    "    >>> r = [\"Mario\", \"Bowser\", \"Luigi\"]\n",
    "    >>> purple_shell(r)\n",
    "    >>> r\n",
    "    [\"Luigi\", \"Bowser\", \"Mario\"]\n",
    "    \"\"\"\n",
    "    temp = racers [0]\n",
    "    racers[0] = racers [-1]\n",
    "    racers[-1] = temp\n",
    "\n",
    "# Check your answer\n",
    "q3.check()"
   ]
  },
  {
   "cell_type": "code",
   "execution_count": 7,
   "id": "7cf725cf",
   "metadata": {
    "execution": {
     "iopub.execute_input": "2022-09-13T01:28:09.409342Z",
     "iopub.status.busy": "2022-09-13T01:28:09.408974Z",
     "iopub.status.idle": "2022-09-13T01:28:09.413489Z",
     "shell.execute_reply": "2022-09-13T01:28:09.412431Z"
    },
    "papermill": {
     "duration": 0.013333,
     "end_time": "2022-09-13T01:28:09.415640",
     "exception": false,
     "start_time": "2022-09-13T01:28:09.402307",
     "status": "completed"
    },
    "tags": []
   },
   "outputs": [],
   "source": [
    "#q3.hint()\n",
    "#q3.solution()"
   ]
  },
  {
   "cell_type": "markdown",
   "id": "b043e66d",
   "metadata": {
    "papermill": {
     "duration": 0.005299,
     "end_time": "2022-09-13T01:28:09.426479",
     "exception": false,
     "start_time": "2022-09-13T01:28:09.421180",
     "status": "completed"
    },
    "tags": []
   },
   "source": [
    "# 4.\n",
    "\n",
    "What are the lengths of the following lists? Fill in the variable `lengths` with your predictions. (Try to make a prediction for each list *without* just calling `len()` on it.)"
   ]
  },
  {
   "cell_type": "code",
   "execution_count": 8,
   "id": "1ba4ec2c",
   "metadata": {
    "execution": {
     "iopub.execute_input": "2022-09-13T01:28:09.439323Z",
     "iopub.status.busy": "2022-09-13T01:28:09.438920Z",
     "iopub.status.idle": "2022-09-13T01:28:09.448170Z",
     "shell.execute_reply": "2022-09-13T01:28:09.447337Z"
    },
    "papermill": {
     "duration": 0.018099,
     "end_time": "2022-09-13T01:28:09.450165",
     "exception": false,
     "start_time": "2022-09-13T01:28:09.432066",
     "status": "completed"
    },
    "tags": []
   },
   "outputs": [
    {
     "data": {
      "application/javascript": [
       "parent.postMessage({\"jupyterEvent\": \"custom.exercise_interaction\", \"data\": {\"outcomeType\": 1, \"valueTowardsCompletion\": 0.2, \"interactionType\": 1, \"questionType\": 1, \"questionId\": \"4_UnderstandLen\", \"learnToolsVersion\": \"0.3.4\", \"failureMessage\": \"\", \"exceptionClass\": \"\", \"trace\": \"\"}}, \"*\")"
      ],
      "text/plain": [
       "<IPython.core.display.Javascript object>"
      ]
     },
     "metadata": {},
     "output_type": "display_data"
    },
    {
     "data": {
      "text/markdown": [
       "<span style=\"color:#33cc33\">Correct:</span> \n",
       "\n",
       "\n",
       "- a: There are three items in this list. Nothing tricky yet.\n",
       "- b: The list `[2, 3]` counts as a single item. It has one item before it. So we have 2 items in the list\n",
       "- c: The empty list has 0 items\n",
       "- d: The expression is the same as the list `[2, 3]`, which has length 2."
      ],
      "text/plain": [
       "Correct: \n",
       "\n",
       "\n",
       "- a: There are three items in this list. Nothing tricky yet.\n",
       "- b: The list `[2, 3]` counts as a single item. It has one item before it. So we have 2 items in the list\n",
       "- c: The empty list has 0 items\n",
       "- d: The expression is the same as the list `[2, 3]`, which has length 2."
      ]
     },
     "metadata": {},
     "output_type": "display_data"
    }
   ],
   "source": [
    "a = [1, 2, 3]\n",
    "b = [1, [2, 3]]\n",
    "c = []\n",
    "d = [1, 2, 3][1:]\n",
    "\n",
    "# Put your predictions in the list below. Lengths should contain 4 numbers, the\n",
    "# first being the length of a, the second being the length of b and so on.\n",
    "lengths = [3, 2, 0, 2]\n",
    "\n",
    "# Check your answer\n",
    "q4.check()"
   ]
  },
  {
   "cell_type": "code",
   "execution_count": 9,
   "id": "9985c0b9",
   "metadata": {
    "collapsed": true,
    "execution": {
     "iopub.execute_input": "2022-09-13T01:28:09.463400Z",
     "iopub.status.busy": "2022-09-13T01:28:09.463047Z",
     "iopub.status.idle": "2022-09-13T01:28:09.466967Z",
     "shell.execute_reply": "2022-09-13T01:28:09.466019Z"
    },
    "jupyter": {
     "outputs_hidden": true
    },
    "papermill": {
     "duration": 0.013196,
     "end_time": "2022-09-13T01:28:09.469197",
     "exception": false,
     "start_time": "2022-09-13T01:28:09.456001",
     "status": "completed"
    },
    "tags": []
   },
   "outputs": [],
   "source": [
    "# line below provides some explanation\n",
    "#q4.solution()"
   ]
  },
  {
   "cell_type": "markdown",
   "id": "72ad40c3",
   "metadata": {
    "papermill": {
     "duration": 0.005574,
     "end_time": "2022-09-13T01:28:09.480622",
     "exception": false,
     "start_time": "2022-09-13T01:28:09.475048",
     "status": "completed"
    },
    "tags": []
   },
   "source": [
    "# 5. <span title=\"A bit spicy\" style=\"color: darkgreen \">🌶️</span>\n",
    "\n",
    "We're using lists to record people who attended our party and what order they arrived in. For example, the following list represents a party with 7 guests, in which Adela showed up first and Ford was the last to arrive:\n",
    "\n",
    "    party_attendees = ['Adela', 'Fleda', 'Owen', 'May', 'Mona', 'Gilbert', 'Ford']\n",
    "\n",
    "A guest is considered 'fashionably late' if they arrived after at least half of the party's guests. However, they must not be the very last guest (that's taking it too far). In the above example, Mona and Gilbert are the only guests who were fashionably late.\n",
    "\n",
    "Complete the function below which takes a list of party attendees as well as a person, and tells us whether that person is fashionably late."
   ]
  },
  {
   "cell_type": "code",
   "execution_count": 10,
   "id": "aff749a2",
   "metadata": {
    "execution": {
     "iopub.execute_input": "2022-09-13T01:28:09.494787Z",
     "iopub.status.busy": "2022-09-13T01:28:09.494352Z",
     "iopub.status.idle": "2022-09-13T01:28:09.503365Z",
     "shell.execute_reply": "2022-09-13T01:28:09.502357Z"
    },
    "papermill": {
     "duration": 0.018122,
     "end_time": "2022-09-13T01:28:09.505420",
     "exception": false,
     "start_time": "2022-09-13T01:28:09.487298",
     "status": "completed"
    },
    "tags": []
   },
   "outputs": [
    {
     "data": {
      "application/javascript": [
       "parent.postMessage({\"jupyterEvent\": \"custom.exercise_interaction\", \"data\": {\"outcomeType\": 1, \"valueTowardsCompletion\": 0.2, \"interactionType\": 1, \"questionType\": 2, \"questionId\": \"5_FashionablyLate\", \"learnToolsVersion\": \"0.3.4\", \"failureMessage\": \"\", \"exceptionClass\": \"\", \"trace\": \"\"}}, \"*\")"
      ],
      "text/plain": [
       "<IPython.core.display.Javascript object>"
      ]
     },
     "metadata": {},
     "output_type": "display_data"
    },
    {
     "data": {
      "text/markdown": [
       "<span style=\"color:#33cc33\">Correct</span>"
      ],
      "text/plain": [
       "Correct"
      ]
     },
     "metadata": {},
     "output_type": "display_data"
    }
   ],
   "source": [
    "def fashionably_late(arrivals, name):\n",
    "    \"\"\"Given an ordered list of arrivals to the party and a name, return whether the guest with that\n",
    "    name was fashionably late.\n",
    "    \"\"\"\n",
    "    return len(arrivals)/2 <= int(arrivals.index(name)) and arrivals.index(name) != len(arrivals) -1\n",
    "\n",
    "# Check your answer\n",
    "q5.check()"
   ]
  },
  {
   "cell_type": "code",
   "execution_count": 11,
   "id": "9a764d65",
   "metadata": {
    "execution": {
     "iopub.execute_input": "2022-09-13T01:28:09.519210Z",
     "iopub.status.busy": "2022-09-13T01:28:09.518823Z",
     "iopub.status.idle": "2022-09-13T01:28:09.527050Z",
     "shell.execute_reply": "2022-09-13T01:28:09.526242Z"
    },
    "papermill": {
     "duration": 0.017623,
     "end_time": "2022-09-13T01:28:09.529101",
     "exception": false,
     "start_time": "2022-09-13T01:28:09.511478",
     "status": "completed"
    },
    "tags": []
   },
   "outputs": [
    {
     "data": {
      "application/javascript": [
       "parent.postMessage({\"jupyterEvent\": \"custom.exercise_interaction\", \"data\": {\"interactionType\": 3, \"questionType\": 2, \"questionId\": \"5_FashionablyLate\", \"learnToolsVersion\": \"0.3.4\", \"valueTowardsCompletion\": 0.0, \"failureMessage\": \"\", \"exceptionClass\": \"\", \"trace\": \"\", \"outcomeType\": 4}}, \"*\")"
      ],
      "text/plain": [
       "<IPython.core.display.Javascript object>"
      ]
     },
     "metadata": {},
     "output_type": "display_data"
    },
    {
     "data": {
      "text/markdown": [
       "<span style=\"color:#33cc99\">Solution:</span> \n",
       "```python\n",
       "def fashionably_late(arrivals, name):\n",
       "    order = arrivals.index(name)\n",
       "    return order >= len(arrivals) / 2 and order != len(arrivals) - 1\n",
       "```"
      ],
      "text/plain": [
       "Solution: \n",
       "```python\n",
       "def fashionably_late(arrivals, name):\n",
       "    order = arrivals.index(name)\n",
       "    return order >= len(arrivals) / 2 and order != len(arrivals) - 1\n",
       "```"
      ]
     },
     "metadata": {},
     "output_type": "display_data"
    }
   ],
   "source": [
    "#q5.hint()\n",
    "q5.solution()"
   ]
  },
  {
   "cell_type": "markdown",
   "id": "f70230d0",
   "metadata": {
    "papermill": {
     "duration": 0.006346,
     "end_time": "2022-09-13T01:28:09.541867",
     "exception": false,
     "start_time": "2022-09-13T01:28:09.535521",
     "status": "completed"
    },
    "tags": []
   },
   "source": [
    "# Keep Going\n",
    "\n",
    "That's it for lists and tuples! Now you have the baseline knowledge to **[learn about loops](https://www.kaggle.com/colinmorris/loops-and-list-comprehensions)**, which is where lists and tuples get really interesting. "
   ]
  },
  {
   "cell_type": "markdown",
   "id": "2895d987",
   "metadata": {
    "papermill": {
     "duration": 0.006281,
     "end_time": "2022-09-13T01:28:09.554652",
     "exception": false,
     "start_time": "2022-09-13T01:28:09.548371",
     "status": "completed"
    },
    "tags": []
   },
   "source": [
    "---\n",
    "\n",
    "\n",
    "\n",
    "\n",
    "*Have questions or comments? Visit the [course discussion forum](https://www.kaggle.com/learn/python/discussion) to chat with other learners.*"
   ]
  }
 ],
 "metadata": {
  "kernelspec": {
   "display_name": "Python 3",
   "language": "python",
   "name": "python3"
  },
  "language_info": {
   "codemirror_mode": {
    "name": "ipython",
    "version": 3
   },
   "file_extension": ".py",
   "mimetype": "text/x-python",
   "name": "python",
   "nbconvert_exporter": "python",
   "pygments_lexer": "ipython3",
   "version": "3.7.12"
  },
  "papermill": {
   "default_parameters": {},
   "duration": 11.244578,
   "end_time": "2022-09-13T01:28:10.186727",
   "environment_variables": {},
   "exception": null,
   "input_path": "__notebook__.ipynb",
   "output_path": "__notebook__.ipynb",
   "parameters": {},
   "start_time": "2022-09-13T01:27:58.942149",
   "version": "2.3.4"
  }
 },
 "nbformat": 4,
 "nbformat_minor": 5
}
