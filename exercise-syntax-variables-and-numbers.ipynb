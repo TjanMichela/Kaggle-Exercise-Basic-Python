{
 "cells": [
  {
   "cell_type": "markdown",
   "id": "43f3434e",
   "metadata": {
    "papermill": {
     "duration": 0.008047,
     "end_time": "2022-09-12T19:26:26.090141",
     "exception": false,
     "start_time": "2022-09-12T19:26:26.082094",
     "status": "completed"
    },
    "tags": []
   },
   "source": [
    "**This notebook is an exercise in the [Python](https://www.kaggle.com/learn/python) course.  You can reference the tutorial at [this link](https://www.kaggle.com/colinmorris/hello-python).**\n",
    "\n",
    "---\n"
   ]
  },
  {
   "cell_type": "markdown",
   "id": "22f8ddfd",
   "metadata": {
    "papermill": {
     "duration": 0.006492,
     "end_time": "2022-09-12T19:26:26.103945",
     "exception": false,
     "start_time": "2022-09-12T19:26:26.097453",
     "status": "completed"
    },
    "tags": []
   },
   "source": [
    "Welcome to your first set of Python coding problems.  If this is your first time using Kaggle Notebooks, welcome! \n",
    "\n",
    "Notebooks are composed of blocks (called \"cells\") of text and code. Each of these is editable, though you'll mainly be editing the code cells to answer some questions.\n",
    "\n",
    "To get started, try running the code cell below (by pressing the ► button, or clicking on the cell and pressing ctrl+enter on your keyboard)."
   ]
  },
  {
   "cell_type": "code",
   "execution_count": 1,
   "id": "fb101d5c",
   "metadata": {
    "execution": {
     "iopub.execute_input": "2022-09-12T19:26:26.120486Z",
     "iopub.status.busy": "2022-09-12T19:26:26.119461Z",
     "iopub.status.idle": "2022-09-12T19:26:26.135379Z",
     "shell.execute_reply": "2022-09-12T19:26:26.134162Z"
    },
    "papermill": {
     "duration": 0.028067,
     "end_time": "2022-09-12T19:26:26.138646",
     "exception": false,
     "start_time": "2022-09-12T19:26:26.110579",
     "status": "completed"
    },
    "tags": []
   },
   "outputs": [
    {
     "name": "stdout",
     "output_type": "stream",
     "text": [
      "This is so cool!\n",
      "You've successfully run some Python code\n",
      "Congratulations!\n"
     ]
    }
   ],
   "source": [
    "print(\"This is so cool!\")\n",
    "print(\"You've successfully run some Python code\")\n",
    "print(\"Congratulations!\")"
   ]
  },
  {
   "cell_type": "markdown",
   "id": "004aaf03",
   "metadata": {
    "papermill": {
     "duration": 0.00652,
     "end_time": "2022-09-12T19:26:26.152134",
     "exception": false,
     "start_time": "2022-09-12T19:26:26.145614",
     "status": "completed"
    },
    "tags": []
   },
   "source": [
    "Try adding another line of code in the cell above and re-running it. \n",
    "\n",
    "Now let's get a little fancier:  Add a new code cell by clicking on an existing code cell, hitting the escape key, and then hitting the `a` or `b` key.  The `a` key will add a cell above the current cell, and `b` adds a cell below.\n",
    "\n",
    "Great! Now you know how to use Notebooks.\n",
    "\n",
    "Each hands-on exercise starts by setting up our feedback and code checking mechanism. Run the code cell below to do that. Then you'll be ready to move on to question 0."
   ]
  },
  {
   "cell_type": "code",
   "execution_count": 2,
   "id": "4b9c674f",
   "metadata": {
    "_kg_hide-input": true,
    "_kg_hide-output": true,
    "execution": {
     "iopub.execute_input": "2022-09-12T19:26:26.167765Z",
     "iopub.status.busy": "2022-09-12T19:26:26.167022Z",
     "iopub.status.idle": "2022-09-12T19:26:26.217809Z",
     "shell.execute_reply": "2022-09-12T19:26:26.216473Z"
    },
    "papermill": {
     "duration": 0.062026,
     "end_time": "2022-09-12T19:26:26.220912",
     "exception": false,
     "start_time": "2022-09-12T19:26:26.158886",
     "status": "completed"
    },
    "tags": []
   },
   "outputs": [
    {
     "name": "stdout",
     "output_type": "stream",
     "text": [
      "Setup complete! You're ready to start question 0.\n"
     ]
    }
   ],
   "source": [
    "from learntools.core import binder; binder.bind(globals())\n",
    "from learntools.python.ex1 import *\n",
    "print(\"Setup complete! You're ready to start question 0.\")"
   ]
  },
  {
   "cell_type": "markdown",
   "id": "b2d2296c",
   "metadata": {
    "papermill": {
     "duration": 0.006583,
     "end_time": "2022-09-12T19:26:26.235466",
     "exception": false,
     "start_time": "2022-09-12T19:26:26.228883",
     "status": "completed"
    },
    "tags": []
   },
   "source": [
    "# 0.\n",
    "\n",
    "*This is a silly question intended as an introduction to the format we use for hands-on exercises throughout all Kaggle courses.*\n",
    "\n",
    "**What is your favorite color? **\n",
    "\n",
    "To complete this question, create a variable called `color` in the cell below with an appropriate value. The function call `q0.check()` (which we've already provided in the cell below) will check your answer."
   ]
  },
  {
   "cell_type": "code",
   "execution_count": 3,
   "id": "174b7550",
   "metadata": {
    "execution": {
     "iopub.execute_input": "2022-09-12T19:26:26.251001Z",
     "iopub.status.busy": "2022-09-12T19:26:26.250348Z",
     "iopub.status.idle": "2022-09-12T19:26:26.323882Z",
     "shell.execute_reply": "2022-09-12T19:26:26.322431Z"
    },
    "papermill": {
     "duration": 0.0839,
     "end_time": "2022-09-12T19:26:26.325981",
     "exception": true,
     "start_time": "2022-09-12T19:26:26.242081",
     "status": "failed"
    },
    "tags": []
   },
   "outputs": [
    {
     "ename": "StdinNotImplementedError",
     "evalue": "raw_input was called, but this frontend does not support input requests.",
     "output_type": "error",
     "traceback": [
      "\u001b[0;31m---------------------------------------------------------------------------\u001b[0m",
      "\u001b[0;31mStdinNotImplementedError\u001b[0m                  Traceback (most recent call last)",
      "\u001b[0;32m/tmp/ipykernel_19/1882028077.py\u001b[0m in \u001b[0;36m<module>\u001b[0;34m\u001b[0m\n\u001b[1;32m      1\u001b[0m \u001b[0;31m# create a variable called color with an appropriate value on the line below\u001b[0m\u001b[0;34m\u001b[0m\u001b[0;34m\u001b[0m\u001b[0;34m\u001b[0m\u001b[0m\n\u001b[1;32m      2\u001b[0m \u001b[0;31m# (Remember, strings in Python must be enclosed in 'single' or \"double\" quotes)\u001b[0m\u001b[0;34m\u001b[0m\u001b[0;34m\u001b[0m\u001b[0;34m\u001b[0m\u001b[0m\n\u001b[0;32m----> 3\u001b[0;31m \u001b[0mcolor\u001b[0m \u001b[0;34m=\u001b[0m \u001b[0minput\u001b[0m\u001b[0;34m(\u001b[0m\u001b[0;34m\"What is your favorite color?\"\u001b[0m\u001b[0;34m)\u001b[0m\u001b[0;34m\u001b[0m\u001b[0;34m\u001b[0m\u001b[0m\n\u001b[0m\u001b[1;32m      4\u001b[0m \u001b[0;34m\u001b[0m\u001b[0m\n\u001b[1;32m      5\u001b[0m \u001b[0;31m# Check your answer\u001b[0m\u001b[0;34m\u001b[0m\u001b[0;34m\u001b[0m\u001b[0;34m\u001b[0m\u001b[0m\n",
      "\u001b[0;32m/opt/conda/lib/python3.7/site-packages/ipykernel/kernelbase.py\u001b[0m in \u001b[0;36mraw_input\u001b[0;34m(self, prompt)\u001b[0m\n\u001b[1;32m   1173\u001b[0m         \u001b[0;32mif\u001b[0m \u001b[0;32mnot\u001b[0m \u001b[0mself\u001b[0m\u001b[0;34m.\u001b[0m\u001b[0m_allow_stdin\u001b[0m\u001b[0;34m:\u001b[0m\u001b[0;34m\u001b[0m\u001b[0;34m\u001b[0m\u001b[0m\n\u001b[1;32m   1174\u001b[0m             raise StdinNotImplementedError(\n\u001b[0;32m-> 1175\u001b[0;31m                 \u001b[0;34m\"raw_input was called, but this frontend does not support input requests.\"\u001b[0m\u001b[0;34m\u001b[0m\u001b[0;34m\u001b[0m\u001b[0m\n\u001b[0m\u001b[1;32m   1176\u001b[0m             )\n\u001b[1;32m   1177\u001b[0m         return self._input_request(\n",
      "\u001b[0;31mStdinNotImplementedError\u001b[0m: raw_input was called, but this frontend does not support input requests."
     ]
    }
   ],
   "source": [
    "# create a variable called color with an appropriate value on the line below\n",
    "# (Remember, strings in Python must be enclosed in 'single' or \"double\" quotes)\n",
    "color = input(\"What is your favorite color?\")\n",
    "\n",
    "# Check your answer\n",
    "q0.check()"
   ]
  },
  {
   "cell_type": "markdown",
   "id": "528b41d5",
   "metadata": {
    "papermill": {
     "duration": null,
     "end_time": null,
     "exception": null,
     "start_time": null,
     "status": "pending"
    },
    "tags": []
   },
   "source": [
    "Didn't get the right answer? How do you not even know your own favorite color?!\n",
    "\n",
    "Delete the `#` in the line below to make one of the lines run. You can choose between getting a hint or the full answer by choosing which line to remove the `#` from. \n",
    "\n",
    "Removing the `#` is called uncommenting, because it changes that line from a \"comment\" which Python doesn't run to code, which Python does run."
   ]
  },
  {
   "cell_type": "code",
   "execution_count": null,
   "id": "2c0eb624",
   "metadata": {
    "execution": {
     "iopub.execute_input": "2022-09-12T19:24:37.561316Z",
     "iopub.status.busy": "2022-09-12T19:24:37.560986Z",
     "iopub.status.idle": "2022-09-12T19:24:37.574857Z",
     "shell.execute_reply": "2022-09-12T19:24:37.573745Z",
     "shell.execute_reply.started": "2022-09-12T19:24:37.561283Z"
    },
    "papermill": {
     "duration": null,
     "end_time": null,
     "exception": null,
     "start_time": null,
     "status": "pending"
    },
    "tags": []
   },
   "outputs": [],
   "source": [
    "q0.hint()\n",
    "q0.solution()"
   ]
  },
  {
   "cell_type": "markdown",
   "id": "ccabb41c",
   "metadata": {
    "papermill": {
     "duration": null,
     "end_time": null,
     "exception": null,
     "start_time": null,
     "status": "pending"
    },
    "tags": []
   },
   "source": [
    "The upcoming questions work the same way. The only thing that will change are the question numbers. For the next question, you'll call `q1.check()`, `q1.hint()`, `q1.solution()`, for question 2, you'll call `q2.check()`, and so on."
   ]
  },
  {
   "cell_type": "markdown",
   "id": "e8f05538",
   "metadata": {
    "papermill": {
     "duration": null,
     "end_time": null,
     "exception": null,
     "start_time": null,
     "status": "pending"
    },
    "tags": []
   },
   "source": [
    "<hr/>\n",
    "\n",
    "# 1.\n",
    "\n",
    "Complete the code below. In case it's helpful, here is the table of available arithmetic operations:\n",
    "\n",
    "\n",
    "\n",
    "| Operator     | Name           | Description                                            |\n",
    "|--------------|----------------|--------------------------------------------------------|\n",
    "| ``a + b``    | Addition       | Sum of ``a`` and ``b``                                 |\n",
    "| ``a - b``    | Subtraction    | Difference of ``a`` and ``b``                          |\n",
    "| ``a * b``    | Multiplication | Product of ``a`` and ``b``                             |\n",
    "| ``a / b``    | True division  | Quotient of ``a`` and ``b``                            |\n",
    "| ``a // b``   | Floor division | Quotient of ``a`` and ``b``, removing fractional parts |\n",
    "| ``a % b``    | Modulus        | Integer remainder after division of ``a`` by ``b``     |\n",
    "| ``a ** b``   | Exponentiation | ``a`` raised to the power of ``b``                     |\n",
    "| ``-a``       | Negation       | The negative of ``a``                                  |\n",
    "\n",
    "<span style=\"display:none\"></span>\n"
   ]
  },
  {
   "cell_type": "code",
   "execution_count": null,
   "id": "e37a9f8a",
   "metadata": {
    "execution": {
     "iopub.execute_input": "2022-09-12T19:24:37.579172Z",
     "iopub.status.busy": "2022-09-12T19:24:37.578674Z",
     "iopub.status.idle": "2022-09-12T19:24:37.589421Z",
     "shell.execute_reply": "2022-09-12T19:24:37.588104Z",
     "shell.execute_reply.started": "2022-09-12T19:24:37.579123Z"
    },
    "papermill": {
     "duration": null,
     "end_time": null,
     "exception": null,
     "start_time": null,
     "status": "pending"
    },
    "tags": []
   },
   "outputs": [],
   "source": [
    "pi = 3.14159 # approximate\n",
    "diameter = 3\n",
    "\n",
    "# Create a variable called 'radius' equal to half the diameter\n",
    "radius = diameter / 2\n",
    "\n",
    "# Create a variable called 'area', using the formula for the area of a circle: pi times the radius squared\n",
    "area = pi * (radius**2)\n",
    "\n",
    "# Check your answer\n",
    "q1.check()"
   ]
  },
  {
   "cell_type": "code",
   "execution_count": null,
   "id": "ae7cf19e",
   "metadata": {
    "execution": {
     "iopub.execute_input": "2022-09-12T19:24:37.591875Z",
     "iopub.status.busy": "2022-09-12T19:24:37.591437Z",
     "iopub.status.idle": "2022-09-12T19:24:37.596764Z",
     "shell.execute_reply": "2022-09-12T19:24:37.595842Z",
     "shell.execute_reply.started": "2022-09-12T19:24:37.591829Z"
    },
    "papermill": {
     "duration": null,
     "end_time": null,
     "exception": null,
     "start_time": null,
     "status": "pending"
    },
    "tags": []
   },
   "outputs": [],
   "source": [
    "# Uncomment and run the lines below if you need help.\n",
    "#q1.hint()\n",
    "#q1.solution()"
   ]
  },
  {
   "cell_type": "markdown",
   "id": "2a09375f",
   "metadata": {
    "papermill": {
     "duration": null,
     "end_time": null,
     "exception": null,
     "start_time": null,
     "status": "pending"
    },
    "tags": []
   },
   "source": [
    "<hr/>\n",
    "\n",
    "# 2.\n",
    "\n",
    "Add code to the following cell to swap variables `a` and `b` (so that `a` refers to the object previously referred to by `b` and vice versa)."
   ]
  },
  {
   "cell_type": "code",
   "execution_count": null,
   "id": "16aa5a5a",
   "metadata": {
    "execution": {
     "iopub.execute_input": "2022-09-12T19:24:37.598431Z",
     "iopub.status.busy": "2022-09-12T19:24:37.598068Z",
     "iopub.status.idle": "2022-09-12T19:24:37.612625Z",
     "shell.execute_reply": "2022-09-12T19:24:37.611517Z",
     "shell.execute_reply.started": "2022-09-12T19:24:37.598389Z"
    },
    "papermill": {
     "duration": null,
     "end_time": null,
     "exception": null,
     "start_time": null,
     "status": "pending"
    },
    "tags": []
   },
   "outputs": [],
   "source": [
    "########### Setup code - don't touch this part ######################\n",
    "# If you're curious, these are examples of lists. We'll talk about \n",
    "# them in depth a few lessons from now. For now, just know that they're\n",
    "# yet another type of Python object, like int or float.\n",
    "a = [1, 2, 3]\n",
    "b = [3, 2, 1]\n",
    "q2.store_original_ids()\n",
    "######################################################################\n",
    "\n",
    "a, b = b, a\n",
    "######################################################################\n",
    "\n",
    "# Check your answer\n",
    "q2.check()"
   ]
  },
  {
   "cell_type": "code",
   "execution_count": null,
   "id": "d6992115",
   "metadata": {
    "execution": {
     "iopub.execute_input": "2022-09-12T19:24:37.614376Z",
     "iopub.status.busy": "2022-09-12T19:24:37.614026Z",
     "iopub.status.idle": "2022-09-12T19:24:37.619306Z",
     "shell.execute_reply": "2022-09-12T19:24:37.618287Z",
     "shell.execute_reply.started": "2022-09-12T19:24:37.614344Z"
    },
    "papermill": {
     "duration": null,
     "end_time": null,
     "exception": null,
     "start_time": null,
     "status": "pending"
    },
    "tags": []
   },
   "outputs": [],
   "source": [
    "#q2.hint()"
   ]
  },
  {
   "cell_type": "code",
   "execution_count": null,
   "id": "a988fbfd",
   "metadata": {
    "execution": {
     "iopub.execute_input": "2022-09-12T19:24:37.620558Z",
     "iopub.status.busy": "2022-09-12T19:24:37.620242Z",
     "iopub.status.idle": "2022-09-12T19:24:37.630641Z",
     "shell.execute_reply": "2022-09-12T19:24:37.629679Z",
     "shell.execute_reply.started": "2022-09-12T19:24:37.620528Z"
    },
    "papermill": {
     "duration": null,
     "end_time": null,
     "exception": null,
     "start_time": null,
     "status": "pending"
    },
    "tags": []
   },
   "outputs": [],
   "source": [
    "#q2.solution()"
   ]
  },
  {
   "cell_type": "markdown",
   "id": "42ad9256",
   "metadata": {
    "papermill": {
     "duration": null,
     "end_time": null,
     "exception": null,
     "start_time": null,
     "status": "pending"
    },
    "tags": []
   },
   "source": [
    "<hr/>\n",
    "\n",
    "# 3a.\n",
    "\n",
    "Add parentheses to the following expression so that it evaluates to 1."
   ]
  },
  {
   "cell_type": "code",
   "execution_count": null,
   "id": "aea93b93",
   "metadata": {
    "execution": {
     "iopub.execute_input": "2022-09-12T19:24:37.632349Z",
     "iopub.status.busy": "2022-09-12T19:24:37.631840Z",
     "iopub.status.idle": "2022-09-12T19:24:37.642027Z",
     "shell.execute_reply": "2022-09-12T19:24:37.640988Z",
     "shell.execute_reply.started": "2022-09-12T19:24:37.632301Z"
    },
    "papermill": {
     "duration": null,
     "end_time": null,
     "exception": null,
     "start_time": null,
     "status": "pending"
    },
    "tags": []
   },
   "outputs": [],
   "source": [
    "(5 - 3) // 2"
   ]
  },
  {
   "cell_type": "code",
   "execution_count": null,
   "id": "b6349d31",
   "metadata": {
    "execution": {
     "iopub.execute_input": "2022-09-12T19:24:37.645040Z",
     "iopub.status.busy": "2022-09-12T19:24:37.644652Z",
     "iopub.status.idle": "2022-09-12T19:24:37.651154Z",
     "shell.execute_reply": "2022-09-12T19:24:37.650110Z",
     "shell.execute_reply.started": "2022-09-12T19:24:37.644997Z"
    },
    "papermill": {
     "duration": null,
     "end_time": null,
     "exception": null,
     "start_time": null,
     "status": "pending"
    },
    "tags": []
   },
   "outputs": [],
   "source": [
    "#q3.a.hint()"
   ]
  },
  {
   "cell_type": "code",
   "execution_count": null,
   "id": "fd241f40",
   "metadata": {
    "execution": {
     "iopub.execute_input": "2022-09-12T19:24:37.653451Z",
     "iopub.status.busy": "2022-09-12T19:24:37.652704Z",
     "iopub.status.idle": "2022-09-12T19:24:37.664081Z",
     "shell.execute_reply": "2022-09-12T19:24:37.662776Z",
     "shell.execute_reply.started": "2022-09-12T19:24:37.653405Z"
    },
    "papermill": {
     "duration": null,
     "end_time": null,
     "exception": null,
     "start_time": null,
     "status": "pending"
    },
    "tags": []
   },
   "outputs": [],
   "source": [
    "# Check your answer (Run this code cell to receive credit!)\n",
    "q3.a.solution()"
   ]
  },
  {
   "cell_type": "markdown",
   "id": "2e1eea92",
   "metadata": {
    "papermill": {
     "duration": null,
     "end_time": null,
     "exception": null,
     "start_time": null,
     "status": "pending"
    },
    "tags": []
   },
   "source": [
    "# 3b.  <span title=\"A bit spicy\" style=\"color: darkgreen \">🌶️</span>\n",
    "\n",
    "<small>Questions, like this one, marked a spicy pepper are a bit harder.</small>\n",
    "\n",
    "Add parentheses to the following expression so that it evaluates to 0."
   ]
  },
  {
   "cell_type": "code",
   "execution_count": null,
   "id": "794546f3",
   "metadata": {
    "execution": {
     "iopub.execute_input": "2022-09-12T19:24:37.665961Z",
     "iopub.status.busy": "2022-09-12T19:24:37.665574Z",
     "iopub.status.idle": "2022-09-12T19:24:37.673099Z",
     "shell.execute_reply": "2022-09-12T19:24:37.672121Z",
     "shell.execute_reply.started": "2022-09-12T19:24:37.665899Z"
    },
    "papermill": {
     "duration": null,
     "end_time": null,
     "exception": null,
     "start_time": null,
     "status": "pending"
    },
    "tags": []
   },
   "outputs": [],
   "source": [
    "(8 - 3) * (2 - (1 + 1))"
   ]
  },
  {
   "cell_type": "code",
   "execution_count": null,
   "id": "cb3acccb",
   "metadata": {
    "execution": {
     "iopub.execute_input": "2022-09-12T19:24:37.674716Z",
     "iopub.status.busy": "2022-09-12T19:24:37.674392Z",
     "iopub.status.idle": "2022-09-12T19:24:37.689624Z",
     "shell.execute_reply": "2022-09-12T19:24:37.688725Z",
     "shell.execute_reply.started": "2022-09-12T19:24:37.674686Z"
    },
    "papermill": {
     "duration": null,
     "end_time": null,
     "exception": null,
     "start_time": null,
     "status": "pending"
    },
    "tags": []
   },
   "outputs": [],
   "source": [
    "#q3.b.hint()"
   ]
  },
  {
   "cell_type": "code",
   "execution_count": null,
   "id": "2c5ffcf7",
   "metadata": {
    "execution": {
     "iopub.execute_input": "2022-09-12T19:24:37.691846Z",
     "iopub.status.busy": "2022-09-12T19:24:37.691352Z",
     "iopub.status.idle": "2022-09-12T19:24:37.702977Z",
     "shell.execute_reply": "2022-09-12T19:24:37.701785Z",
     "shell.execute_reply.started": "2022-09-12T19:24:37.691808Z"
    },
    "papermill": {
     "duration": null,
     "end_time": null,
     "exception": null,
     "start_time": null,
     "status": "pending"
    },
    "tags": []
   },
   "outputs": [],
   "source": [
    "# Check your answer (Run this code cell to receive credit!)\n",
    "q3.b.solution()"
   ]
  },
  {
   "cell_type": "markdown",
   "id": "881b0d4a",
   "metadata": {
    "papermill": {
     "duration": null,
     "end_time": null,
     "exception": null,
     "start_time": null,
     "status": "pending"
    },
    "tags": []
   },
   "source": [
    "<hr/>\n",
    "\n",
    "# 4. \n",
    "Alice, Bob and Carol have agreed to pool their Halloween candy and split it evenly among themselves.\n",
    "For the sake of their friendship, any candies left over will be smashed. For example, if they collectively\n",
    "bring home 91 candies, they'll take 30 each and smash 1.\n",
    "\n",
    "Write an arithmetic expression below to calculate how many candies they must smash for a given haul."
   ]
  },
  {
   "cell_type": "code",
   "execution_count": null,
   "id": "dbe11874",
   "metadata": {
    "execution": {
     "iopub.execute_input": "2022-09-12T19:24:37.705268Z",
     "iopub.status.busy": "2022-09-12T19:24:37.704789Z",
     "iopub.status.idle": "2022-09-12T19:24:37.718565Z",
     "shell.execute_reply": "2022-09-12T19:24:37.717340Z",
     "shell.execute_reply.started": "2022-09-12T19:24:37.705221Z"
    },
    "papermill": {
     "duration": null,
     "end_time": null,
     "exception": null,
     "start_time": null,
     "status": "pending"
    },
    "tags": []
   },
   "outputs": [],
   "source": [
    "# Variables representing the number of candies collected by alice, bob, and carol\n",
    "alice_candies = 121\n",
    "bob_candies = 77\n",
    "carol_candies = 109\n",
    "\n",
    "# Your code goes here! Replace the right-hand side of this assignment with an expression\n",
    "# involving alice_candies, bob_candies, and carol_candies\n",
    "to_smash = (alice_candies + bob_candies + carol_candies)%3\n",
    "\n",
    "# Check your answer\n",
    "q4.check()"
   ]
  },
  {
   "cell_type": "code",
   "execution_count": null,
   "id": "5707190f",
   "metadata": {
    "execution": {
     "iopub.execute_input": "2022-09-12T19:24:37.721308Z",
     "iopub.status.busy": "2022-09-12T19:24:37.720475Z",
     "iopub.status.idle": "2022-09-12T19:24:37.729824Z",
     "shell.execute_reply": "2022-09-12T19:24:37.728992Z",
     "shell.execute_reply.started": "2022-09-12T19:24:37.721259Z"
    },
    "papermill": {
     "duration": null,
     "end_time": null,
     "exception": null,
     "start_time": null,
     "status": "pending"
    },
    "tags": []
   },
   "outputs": [],
   "source": [
    "#q4.hint()\n",
    "#q4.solution()"
   ]
  },
  {
   "cell_type": "markdown",
   "id": "f326b001",
   "metadata": {
    "papermill": {
     "duration": null,
     "end_time": null,
     "exception": null,
     "start_time": null,
     "status": "pending"
    },
    "tags": []
   },
   "source": [
    "# Keep Going\n",
    "\n",
    "Next up, you'll **[learn to write new functions and understand functions others write](https://www.kaggle.com/colinmorris/functions-and-getting-help)**. This will make you at least 10 times more productive as a Python programmer. "
   ]
  },
  {
   "cell_type": "markdown",
   "id": "0302982f",
   "metadata": {
    "papermill": {
     "duration": null,
     "end_time": null,
     "exception": null,
     "start_time": null,
     "status": "pending"
    },
    "tags": []
   },
   "source": [
    "---\n",
    "\n",
    "\n",
    "\n",
    "\n",
    "*Have questions or comments? Visit the [course discussion forum](https://www.kaggle.com/learn/python/discussion) to chat with other learners.*"
   ]
  }
 ],
 "metadata": {
  "kernelspec": {
   "display_name": "Python 3",
   "language": "python",
   "name": "python3"
  },
  "language_info": {
   "codemirror_mode": {
    "name": "ipython",
    "version": 3
   },
   "file_extension": ".py",
   "mimetype": "text/x-python",
   "name": "python",
   "nbconvert_exporter": "python",
   "pygments_lexer": "ipython3",
   "version": "3.7.12"
  },
  "papermill": {
   "default_parameters": {},
   "duration": 11.632797,
   "end_time": "2022-09-12T19:26:27.055335",
   "environment_variables": {},
   "exception": true,
   "input_path": "__notebook__.ipynb",
   "output_path": "__notebook__.ipynb",
   "parameters": {},
   "start_time": "2022-09-12T19:26:15.422538",
   "version": "2.3.4"
  }
 },
 "nbformat": 4,
 "nbformat_minor": 5
}
