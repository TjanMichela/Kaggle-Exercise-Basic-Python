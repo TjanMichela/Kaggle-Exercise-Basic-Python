{
 "cells": [
  {
   "cell_type": "markdown",
   "id": "deab6739",
   "metadata": {
    "papermill": {
     "duration": 0.009486,
     "end_time": "2022-09-15T22:00:10.470540",
     "exception": false,
     "start_time": "2022-09-15T22:00:10.461054",
     "status": "completed"
    },
    "tags": []
   },
   "source": [
    "**This notebook is an exercise in the [Python](https://www.kaggle.com/learn/python) course.  You can reference the tutorial at [this link](https://www.kaggle.com/colinmorris/strings-and-dictionaries).**\n",
    "\n",
    "---\n"
   ]
  },
  {
   "cell_type": "markdown",
   "id": "7abe7d9e",
   "metadata": {
    "papermill": {
     "duration": 0.007667,
     "end_time": "2022-09-15T22:00:10.486958",
     "exception": false,
     "start_time": "2022-09-15T22:00:10.479291",
     "status": "completed"
    },
    "tags": []
   },
   "source": [
    "You are almost done with the course. Nice job!\n",
    "\n",
    "We have a couple more interesting problems for you before you go. \n",
    "\n",
    "As always, run the setup code below before working on the questions."
   ]
  },
  {
   "cell_type": "code",
   "execution_count": 1,
   "id": "ed53c180",
   "metadata": {
    "execution": {
     "iopub.execute_input": "2022-09-15T22:00:10.501864Z",
     "iopub.status.busy": "2022-09-15T22:00:10.500919Z",
     "iopub.status.idle": "2022-09-15T22:00:10.569149Z",
     "shell.execute_reply": "2022-09-15T22:00:10.568000Z"
    },
    "papermill": {
     "duration": 0.079121,
     "end_time": "2022-09-15T22:00:10.572720",
     "exception": false,
     "start_time": "2022-09-15T22:00:10.493599",
     "status": "completed"
    },
    "tags": []
   },
   "outputs": [
    {
     "name": "stdout",
     "output_type": "stream",
     "text": [
      "Setup complete.\n"
     ]
    }
   ],
   "source": [
    "from learntools.core import binder; binder.bind(globals())\n",
    "from learntools.python.ex6 import *\n",
    "print('Setup complete.')"
   ]
  },
  {
   "cell_type": "markdown",
   "id": "03cb603f",
   "metadata": {
    "papermill": {
     "duration": 0.005426,
     "end_time": "2022-09-15T22:00:10.584495",
     "exception": false,
     "start_time": "2022-09-15T22:00:10.579069",
     "status": "completed"
    },
    "tags": []
   },
   "source": [
    "Let's start with a string lightning round to warm up. What are the lengths of the strings below?\n",
    "\n",
    "For each of the five strings below, predict what `len()` would return when passed that string. Use the variable `length` to record your answer, then run the cell to check whether you were right.  \n",
    "\n",
    "# 0a."
   ]
  },
  {
   "cell_type": "code",
   "execution_count": 2,
   "id": "07e9c16f",
   "metadata": {
    "execution": {
     "iopub.execute_input": "2022-09-15T22:00:10.597449Z",
     "iopub.status.busy": "2022-09-15T22:00:10.597041Z",
     "iopub.status.idle": "2022-09-15T22:00:10.607426Z",
     "shell.execute_reply": "2022-09-15T22:00:10.606376Z"
    },
    "papermill": {
     "duration": 0.01959,
     "end_time": "2022-09-15T22:00:10.609611",
     "exception": false,
     "start_time": "2022-09-15T22:00:10.590021",
     "status": "completed"
    },
    "tags": []
   },
   "outputs": [
    {
     "data": {
      "application/javascript": [
       "parent.postMessage({\"jupyterEvent\": \"custom.exercise_interaction\", \"data\": {\"outcomeType\": 1, \"valueTowardsCompletion\": 0.3333333333333333, \"interactionType\": 1, \"questionType\": 1, \"questionId\": \"0.1_ZA\", \"learnToolsVersion\": \"0.3.4\", \"failureMessage\": \"\", \"exceptionClass\": \"\", \"trace\": \"\"}}, \"*\")"
      ],
      "text/plain": [
       "<IPython.core.display.Javascript object>"
      ]
     },
     "metadata": {},
     "output_type": "display_data"
    },
    {
     "data": {
      "text/markdown": [
       "<span style=\"color:#33cc33\">Correct:</span> \n",
       "\n",
       "The empty string has length zero. Note that the empty string is also the only string that Python considers as False when converting to boolean."
      ],
      "text/plain": [
       "Correct: \n",
       "\n",
       "The empty string has length zero. Note that the empty string is also the only string that Python considers as False when converting to boolean."
      ]
     },
     "metadata": {},
     "output_type": "display_data"
    }
   ],
   "source": [
    "a = \"\"\n",
    "length = len(a)\n",
    "q0.a.check()"
   ]
  },
  {
   "cell_type": "markdown",
   "id": "1f090b06",
   "metadata": {
    "papermill": {
     "duration": 0.005478,
     "end_time": "2022-09-15T22:00:10.620949",
     "exception": false,
     "start_time": "2022-09-15T22:00:10.615471",
     "status": "completed"
    },
    "tags": []
   },
   "source": [
    "# 0b."
   ]
  },
  {
   "cell_type": "code",
   "execution_count": 3,
   "id": "29e025dc",
   "metadata": {
    "execution": {
     "iopub.execute_input": "2022-09-15T22:00:10.634313Z",
     "iopub.status.busy": "2022-09-15T22:00:10.633469Z",
     "iopub.status.idle": "2022-09-15T22:00:10.642357Z",
     "shell.execute_reply": "2022-09-15T22:00:10.641145Z"
    },
    "papermill": {
     "duration": 0.018287,
     "end_time": "2022-09-15T22:00:10.644905",
     "exception": false,
     "start_time": "2022-09-15T22:00:10.626618",
     "status": "completed"
    },
    "tags": []
   },
   "outputs": [
    {
     "data": {
      "application/javascript": [
       "parent.postMessage({\"jupyterEvent\": \"custom.exercise_interaction\", \"data\": {\"outcomeType\": 1, \"valueTowardsCompletion\": 0.3333333333333333, \"interactionType\": 1, \"questionType\": 1, \"questionId\": \"0.2_ZB\", \"learnToolsVersion\": \"0.3.4\", \"failureMessage\": \"\", \"exceptionClass\": \"\", \"trace\": \"\"}}, \"*\")"
      ],
      "text/plain": [
       "<IPython.core.display.Javascript object>"
      ]
     },
     "metadata": {},
     "output_type": "display_data"
    },
    {
     "data": {
      "text/markdown": [
       "<span style=\"color:#33cc33\">Correct:</span> \n",
       "\n",
       "Keep in mind Python includes spaces (and punctuation) when counting string length."
      ],
      "text/plain": [
       "Correct: \n",
       "\n",
       "Keep in mind Python includes spaces (and punctuation) when counting string length."
      ]
     },
     "metadata": {},
     "output_type": "display_data"
    }
   ],
   "source": [
    "b = \"it's ok\"\n",
    "length = len(b)\n",
    "q0.b.check()"
   ]
  },
  {
   "cell_type": "markdown",
   "id": "1e036ea0",
   "metadata": {
    "papermill": {
     "duration": 0.005561,
     "end_time": "2022-09-15T22:00:10.656481",
     "exception": false,
     "start_time": "2022-09-15T22:00:10.650920",
     "status": "completed"
    },
    "tags": []
   },
   "source": [
    "# 0c."
   ]
  },
  {
   "cell_type": "code",
   "execution_count": 4,
   "id": "48cc4137",
   "metadata": {
    "execution": {
     "iopub.execute_input": "2022-09-15T22:00:10.669743Z",
     "iopub.status.busy": "2022-09-15T22:00:10.669334Z",
     "iopub.status.idle": "2022-09-15T22:00:10.678544Z",
     "shell.execute_reply": "2022-09-15T22:00:10.677344Z"
    },
    "papermill": {
     "duration": 0.018432,
     "end_time": "2022-09-15T22:00:10.680769",
     "exception": false,
     "start_time": "2022-09-15T22:00:10.662337",
     "status": "completed"
    },
    "tags": []
   },
   "outputs": [
    {
     "data": {
      "application/javascript": [
       "parent.postMessage({\"jupyterEvent\": \"custom.exercise_interaction\", \"data\": {\"outcomeType\": 1, \"valueTowardsCompletion\": 0.3333333333333333, \"interactionType\": 1, \"questionType\": 1, \"questionId\": \"0.3_ZC\", \"learnToolsVersion\": \"0.3.4\", \"failureMessage\": \"\", \"exceptionClass\": \"\", \"trace\": \"\"}}, \"*\")"
      ],
      "text/plain": [
       "<IPython.core.display.Javascript object>"
      ]
     },
     "metadata": {},
     "output_type": "display_data"
    },
    {
     "data": {
      "text/markdown": [
       "<span style=\"color:#33cc33\">Correct:</span> \n",
       "\n",
       "Even though we use different syntax to create it, the string `c` is identical to `b`. In particular, note that the backslash is not part of the string, so it doesn't contribute to its length."
      ],
      "text/plain": [
       "Correct: \n",
       "\n",
       "Even though we use different syntax to create it, the string `c` is identical to `b`. In particular, note that the backslash is not part of the string, so it doesn't contribute to its length."
      ]
     },
     "metadata": {},
     "output_type": "display_data"
    }
   ],
   "source": [
    "c = 'it\\'s ok'\n",
    "length = len(c)\n",
    "q0.c.check()"
   ]
  },
  {
   "cell_type": "markdown",
   "id": "b316dbe7",
   "metadata": {
    "papermill": {
     "duration": 0.005944,
     "end_time": "2022-09-15T22:00:10.692840",
     "exception": false,
     "start_time": "2022-09-15T22:00:10.686896",
     "status": "completed"
    },
    "tags": []
   },
   "source": [
    "# 0d."
   ]
  },
  {
   "cell_type": "code",
   "execution_count": 5,
   "id": "354a3d6c",
   "metadata": {
    "execution": {
     "iopub.execute_input": "2022-09-15T22:00:10.706740Z",
     "iopub.status.busy": "2022-09-15T22:00:10.706384Z",
     "iopub.status.idle": "2022-09-15T22:00:10.715459Z",
     "shell.execute_reply": "2022-09-15T22:00:10.714356Z"
    },
    "papermill": {
     "duration": 0.018732,
     "end_time": "2022-09-15T22:00:10.717691",
     "exception": false,
     "start_time": "2022-09-15T22:00:10.698959",
     "status": "completed"
    },
    "tags": []
   },
   "outputs": [
    {
     "data": {
      "application/javascript": [
       "parent.postMessage({\"jupyterEvent\": \"custom.exercise_interaction\", \"data\": {\"outcomeType\": 1, \"valueTowardsCompletion\": 0.3333333333333333, \"interactionType\": 1, \"questionType\": 1, \"questionId\": \"0.4_ZD\", \"learnToolsVersion\": \"0.3.4\", \"failureMessage\": \"\", \"exceptionClass\": \"\", \"trace\": \"\"}}, \"*\")"
      ],
      "text/plain": [
       "<IPython.core.display.Javascript object>"
      ]
     },
     "metadata": {},
     "output_type": "display_data"
    },
    {
     "data": {
      "text/markdown": [
       "<span style=\"color:#33cc33\">Correct:</span> \n",
       "\n",
       "The fact that this string was created using triple-quote syntax doesn't make any difference in terms of its content or length. This string is exactly the same as `'hey'`."
      ],
      "text/plain": [
       "Correct: \n",
       "\n",
       "The fact that this string was created using triple-quote syntax doesn't make any difference in terms of its content or length. This string is exactly the same as `'hey'`."
      ]
     },
     "metadata": {},
     "output_type": "display_data"
    }
   ],
   "source": [
    "d = \"\"\"hey\"\"\"\n",
    "length = len(d)\n",
    "q0.d.check()"
   ]
  },
  {
   "cell_type": "markdown",
   "id": "94a2102a",
   "metadata": {
    "papermill": {
     "duration": 0.007144,
     "end_time": "2022-09-15T22:00:10.731146",
     "exception": false,
     "start_time": "2022-09-15T22:00:10.724002",
     "status": "completed"
    },
    "tags": []
   },
   "source": [
    "# 0e."
   ]
  },
  {
   "cell_type": "code",
   "execution_count": 6,
   "id": "a055553b",
   "metadata": {
    "execution": {
     "iopub.execute_input": "2022-09-15T22:00:10.745490Z",
     "iopub.status.busy": "2022-09-15T22:00:10.745076Z",
     "iopub.status.idle": "2022-09-15T22:00:10.753367Z",
     "shell.execute_reply": "2022-09-15T22:00:10.752434Z"
    },
    "papermill": {
     "duration": 0.018326,
     "end_time": "2022-09-15T22:00:10.755696",
     "exception": false,
     "start_time": "2022-09-15T22:00:10.737370",
     "status": "completed"
    },
    "tags": []
   },
   "outputs": [
    {
     "data": {
      "application/javascript": [
       "parent.postMessage({\"jupyterEvent\": \"custom.exercise_interaction\", \"data\": {\"outcomeType\": 1, \"valueTowardsCompletion\": 0.3333333333333333, \"interactionType\": 1, \"questionType\": 1, \"questionId\": \"0.5_ZE\", \"learnToolsVersion\": \"0.3.4\", \"failureMessage\": \"\", \"exceptionClass\": \"\", \"trace\": \"\"}}, \"*\")"
      ],
      "text/plain": [
       "<IPython.core.display.Javascript object>"
      ]
     },
     "metadata": {},
     "output_type": "display_data"
    },
    {
     "data": {
      "text/markdown": [
       "<span style=\"color:#33cc33\">Correct:</span> \n",
       "\n",
       "The newline character is just a single character! (Even though we represent it to Python using a combination of two characters.)"
      ],
      "text/plain": [
       "Correct: \n",
       "\n",
       "The newline character is just a single character! (Even though we represent it to Python using a combination of two characters.)"
      ]
     },
     "metadata": {},
     "output_type": "display_data"
    }
   ],
   "source": [
    "e = '\\n'\n",
    "length = len(e)\n",
    "q0.e.check()"
   ]
  },
  {
   "cell_type": "markdown",
   "id": "72bc19de",
   "metadata": {
    "papermill": {
     "duration": 0.006354,
     "end_time": "2022-09-15T22:00:10.768722",
     "exception": false,
     "start_time": "2022-09-15T22:00:10.762368",
     "status": "completed"
    },
    "tags": []
   },
   "source": [
    "# 1.\n",
    "\n",
    "There is a saying that \"Data scientists spend 80% of their time cleaning data, and 20% of their time complaining about cleaning data.\" Let's see if you can write a function to help clean US zip code data. Given a string, it should return whether or not that string represents a valid zip code. For our purposes, a valid zip code is any string consisting of exactly 5 digits.\n",
    "\n",
    "HINT: `str` has a method that will be useful here. Use `help(str)` to review a list of string methods."
   ]
  },
  {
   "cell_type": "code",
   "execution_count": 7,
   "id": "a0738075",
   "metadata": {
    "execution": {
     "iopub.execute_input": "2022-09-15T22:00:10.784262Z",
     "iopub.status.busy": "2022-09-15T22:00:10.783854Z",
     "iopub.status.idle": "2022-09-15T22:00:10.793129Z",
     "shell.execute_reply": "2022-09-15T22:00:10.792293Z"
    },
    "papermill": {
     "duration": 0.019437,
     "end_time": "2022-09-15T22:00:10.795248",
     "exception": false,
     "start_time": "2022-09-15T22:00:10.775811",
     "status": "completed"
    },
    "tags": []
   },
   "outputs": [
    {
     "data": {
      "application/javascript": [
       "parent.postMessage({\"jupyterEvent\": \"custom.exercise_interaction\", \"data\": {\"outcomeType\": 1, \"valueTowardsCompletion\": 0.3333333333333333, \"interactionType\": 1, \"questionType\": 2, \"questionId\": \"1_ZipValidator\", \"learnToolsVersion\": \"0.3.4\", \"failureMessage\": \"\", \"exceptionClass\": \"\", \"trace\": \"\"}}, \"*\")"
      ],
      "text/plain": [
       "<IPython.core.display.Javascript object>"
      ]
     },
     "metadata": {},
     "output_type": "display_data"
    },
    {
     "data": {
      "text/markdown": [
       "<span style=\"color:#33cc33\">Correct</span>"
      ],
      "text/plain": [
       "Correct"
      ]
     },
     "metadata": {},
     "output_type": "display_data"
    }
   ],
   "source": [
    "def is_valid_zip(zip_code):\n",
    "    \"\"\"Returns whether the input string is a valid (5 digit) zip code\n",
    "    \"\"\"\n",
    "    if len(zip_code) == 5:\n",
    "        return zip_code.isdigit()\n",
    "    else:\n",
    "        return False\n",
    "\n",
    "# Check your answer\n",
    "q1.check()"
   ]
  },
  {
   "cell_type": "code",
   "execution_count": 8,
   "id": "e9af77a5",
   "metadata": {
    "execution": {
     "iopub.execute_input": "2022-09-15T22:00:10.810670Z",
     "iopub.status.busy": "2022-09-15T22:00:10.810224Z",
     "iopub.status.idle": "2022-09-15T22:00:10.815019Z",
     "shell.execute_reply": "2022-09-15T22:00:10.813940Z"
    },
    "papermill": {
     "duration": 0.015382,
     "end_time": "2022-09-15T22:00:10.817433",
     "exception": false,
     "start_time": "2022-09-15T22:00:10.802051",
     "status": "completed"
    },
    "tags": []
   },
   "outputs": [],
   "source": [
    "#q1.hint()\n",
    "#q1.solution()"
   ]
  },
  {
   "cell_type": "markdown",
   "id": "8785583c",
   "metadata": {
    "papermill": {
     "duration": 0.006573,
     "end_time": "2022-09-15T22:00:10.830960",
     "exception": false,
     "start_time": "2022-09-15T22:00:10.824387",
     "status": "completed"
    },
    "tags": []
   },
   "source": [
    "# 2.\n",
    "\n",
    "A researcher has gathered thousands of news articles. But she wants to focus her attention on articles including a specific word. Complete the function below to help her filter her list of articles.\n",
    "\n",
    "Your function should meet the following criteria:\n",
    "\n",
    "- Do not include documents where the keyword string shows up only as a part of a larger word. For example, if she were looking for the keyword “closed”, you would not include the string “enclosed.” \n",
    "- She does not want you to distinguish upper case from lower case letters. So the phrase “Closed the case.” would be included when the keyword is “closed”\n",
    "- Do not let periods or commas affect what is matched. “It is closed.” would be included when the keyword is “closed”. But you can assume there are no other types of punctuation."
   ]
  },
  {
   "cell_type": "code",
   "execution_count": 9,
   "id": "9ffc39e0",
   "metadata": {
    "execution": {
     "iopub.execute_input": "2022-09-15T22:00:10.846560Z",
     "iopub.status.busy": "2022-09-15T22:00:10.846186Z",
     "iopub.status.idle": "2022-09-15T22:00:10.857046Z",
     "shell.execute_reply": "2022-09-15T22:00:10.856008Z"
    },
    "papermill": {
     "duration": 0.021561,
     "end_time": "2022-09-15T22:00:10.859383",
     "exception": false,
     "start_time": "2022-09-15T22:00:10.837822",
     "status": "completed"
    },
    "tags": []
   },
   "outputs": [
    {
     "data": {
      "application/javascript": [
       "parent.postMessage({\"jupyterEvent\": \"custom.exercise_interaction\", \"data\": {\"outcomeType\": 1, \"valueTowardsCompletion\": 0.3333333333333333, \"interactionType\": 1, \"questionType\": 2, \"questionId\": \"2_WordSearch\", \"learnToolsVersion\": \"0.3.4\", \"failureMessage\": \"\", \"exceptionClass\": \"\", \"trace\": \"\"}}, \"*\")"
      ],
      "text/plain": [
       "<IPython.core.display.Javascript object>"
      ]
     },
     "metadata": {},
     "output_type": "display_data"
    },
    {
     "data": {
      "text/markdown": [
       "<span style=\"color:#33cc33\">Correct</span>"
      ],
      "text/plain": [
       "Correct"
      ]
     },
     "metadata": {},
     "output_type": "display_data"
    }
   ],
   "source": [
    "import re\n",
    "def word_search(doc_list, keyword):\n",
    "    \"\"\"\n",
    "    Takes a list of documents (each document is a string) and a keyword. \n",
    "    Returns list of the index values into the original list for all documents \n",
    "    containing the keyword.\n",
    "\n",
    "    Example:\n",
    "    doc_list = [\"The Learn Python Challenge Casino.\", \"They bought a car\", \"Casinoville\"]\n",
    "    >>> word_search(doc_list, 'casino')\n",
    "    >>> [0]\n",
    "    \"\"\"\n",
    "    new_list = []\n",
    "    for i, doc in enumerate(doc_list):\n",
    "        word = doc.split()\n",
    "        no_punc_lower = [w.rstrip(\".,\").lower() for w in word]\n",
    "        \n",
    "        if keyword.lower() in no_punc_lower:\n",
    "            new_list.append(i)\n",
    "            \n",
    "    return new_list\n",
    "    \n",
    "# Check your answer\n",
    "q2.check()"
   ]
  },
  {
   "cell_type": "code",
   "execution_count": 10,
   "id": "0e4ff161",
   "metadata": {
    "execution": {
     "iopub.execute_input": "2022-09-15T22:00:10.875182Z",
     "iopub.status.busy": "2022-09-15T22:00:10.874792Z",
     "iopub.status.idle": "2022-09-15T22:00:10.878767Z",
     "shell.execute_reply": "2022-09-15T22:00:10.877735Z"
    },
    "papermill": {
     "duration": 0.014709,
     "end_time": "2022-09-15T22:00:10.881137",
     "exception": false,
     "start_time": "2022-09-15T22:00:10.866428",
     "status": "completed"
    },
    "tags": []
   },
   "outputs": [],
   "source": [
    "#q2.hint()\n",
    "#q2.solution()"
   ]
  },
  {
   "cell_type": "markdown",
   "id": "4b331f8d",
   "metadata": {
    "papermill": {
     "duration": 0.006915,
     "end_time": "2022-09-15T22:00:10.895414",
     "exception": false,
     "start_time": "2022-09-15T22:00:10.888499",
     "status": "completed"
    },
    "tags": []
   },
   "source": [
    "# 3.\n",
    "\n",
    "Now the researcher wants to supply multiple keywords to search for. Complete the function below to help her.\n",
    "\n",
    "(You're encouraged to use the `word_search` function you just wrote when implementing this function. Reusing code in this way makes your programs more robust and readable - and it saves typing!)"
   ]
  },
  {
   "cell_type": "code",
   "execution_count": 11,
   "id": "65eda5c0",
   "metadata": {
    "execution": {
     "iopub.execute_input": "2022-09-15T22:00:10.911933Z",
     "iopub.status.busy": "2022-09-15T22:00:10.910893Z",
     "iopub.status.idle": "2022-09-15T22:00:10.921273Z",
     "shell.execute_reply": "2022-09-15T22:00:10.920207Z"
    },
    "papermill": {
     "duration": 0.021017,
     "end_time": "2022-09-15T22:00:10.923640",
     "exception": false,
     "start_time": "2022-09-15T22:00:10.902623",
     "status": "completed"
    },
    "tags": []
   },
   "outputs": [
    {
     "data": {
      "application/javascript": [
       "parent.postMessage({\"jupyterEvent\": \"custom.exercise_interaction\", \"data\": {\"outcomeType\": 1, \"valueTowardsCompletion\": 0.3333333333333333, \"interactionType\": 1, \"questionType\": 2, \"questionId\": \"3_MultiWordSearch\", \"learnToolsVersion\": \"0.3.4\", \"failureMessage\": \"\", \"exceptionClass\": \"\", \"trace\": \"\"}}, \"*\")"
      ],
      "text/plain": [
       "<IPython.core.display.Javascript object>"
      ]
     },
     "metadata": {},
     "output_type": "display_data"
    },
    {
     "data": {
      "text/markdown": [
       "<span style=\"color:#33cc33\">Correct</span>"
      ],
      "text/plain": [
       "Correct"
      ]
     },
     "metadata": {},
     "output_type": "display_data"
    }
   ],
   "source": [
    "def multi_word_search(docs, keys):\n",
    "    \"\"\"\n",
    "    Takes list of documents (each document is a string) and a list of keywords.  \n",
    "    Returns a dictionary where each key is a keyword, and the value is a list of indices\n",
    "    (from doc_list) of the documents containing that keyword\n",
    "\n",
    "    >>> doc_list = [\"The Learn Python Challenge Casino.\", \"They bought a car and a casino\", \"Casinoville\"]\n",
    "    >>> keywords = ['casino', 'they']\n",
    "    >>> multi_word_search(doc_list, keywords)\n",
    "    {'casino': [0, 1], 'they': [1]}\n",
    "    \"\"\"\n",
    "    dic = {}\n",
    "    for key in keys:\n",
    "        dic[key] = word_search(docs, key)\n",
    "    return dic\n",
    "\n",
    "\n",
    "# Check your answer\n",
    "q3.check()"
   ]
  },
  {
   "cell_type": "code",
   "execution_count": 12,
   "id": "6e1cbca0",
   "metadata": {
    "execution": {
     "iopub.execute_input": "2022-09-15T22:00:10.940381Z",
     "iopub.status.busy": "2022-09-15T22:00:10.939713Z",
     "iopub.status.idle": "2022-09-15T22:00:10.944452Z",
     "shell.execute_reply": "2022-09-15T22:00:10.943401Z"
    },
    "papermill": {
     "duration": 0.015679,
     "end_time": "2022-09-15T22:00:10.946706",
     "exception": false,
     "start_time": "2022-09-15T22:00:10.931027",
     "status": "completed"
    },
    "tags": []
   },
   "outputs": [],
   "source": [
    "#q3.solution()"
   ]
  },
  {
   "cell_type": "markdown",
   "id": "107fb33c",
   "metadata": {
    "papermill": {
     "duration": 0.006974,
     "end_time": "2022-09-15T22:00:10.960945",
     "exception": false,
     "start_time": "2022-09-15T22:00:10.953971",
     "status": "completed"
    },
    "tags": []
   },
   "source": [
    "# Keep Going\n",
    "\n",
    "You've learned a lot. But even the best programmers rely heavily on \"libraries\" of code from other programmers. You'll learn about that in **[the last lesson](https://www.kaggle.com/colinmorris/working-with-external-libraries)**.\n"
   ]
  },
  {
   "cell_type": "markdown",
   "id": "85466a7d",
   "metadata": {
    "papermill": {
     "duration": 0.007084,
     "end_time": "2022-09-15T22:00:10.975291",
     "exception": false,
     "start_time": "2022-09-15T22:00:10.968207",
     "status": "completed"
    },
    "tags": []
   },
   "source": [
    "---\n",
    "\n",
    "\n",
    "\n",
    "\n",
    "*Have questions or comments? Visit the [course discussion forum](https://www.kaggle.com/learn/python/discussion) to chat with other learners.*"
   ]
  }
 ],
 "metadata": {
  "kernelspec": {
   "display_name": "Python 3",
   "language": "python",
   "name": "python3"
  },
  "language_info": {
   "codemirror_mode": {
    "name": "ipython",
    "version": 3
   },
   "file_extension": ".py",
   "mimetype": "text/x-python",
   "name": "python",
   "nbconvert_exporter": "python",
   "pygments_lexer": "ipython3",
   "version": "3.7.12"
  },
  "papermill": {
   "default_parameters": {},
   "duration": 10.269453,
   "end_time": "2022-09-15T22:00:11.603182",
   "environment_variables": {},
   "exception": null,
   "input_path": "__notebook__.ipynb",
   "output_path": "__notebook__.ipynb",
   "parameters": {},
   "start_time": "2022-09-15T22:00:01.333729",
   "version": "2.3.4"
  }
 },
 "nbformat": 4,
 "nbformat_minor": 5
}
