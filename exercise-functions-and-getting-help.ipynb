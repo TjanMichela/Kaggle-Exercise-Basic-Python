{
 "cells": [
  {
   "cell_type": "markdown",
   "id": "e9f8c905",
   "metadata": {
    "papermill": {
     "duration": 0.005333,
     "end_time": "2022-09-12T19:20:03.266749",
     "exception": false,
     "start_time": "2022-09-12T19:20:03.261416",
     "status": "completed"
    },
    "tags": []
   },
   "source": [
    "**This notebook is an exercise in the [Python](https://www.kaggle.com/learn/python) course.  You can reference the tutorial at [this link](https://www.kaggle.com/colinmorris/functions-and-getting-help).**\n",
    "\n",
    "---\n"
   ]
  },
  {
   "cell_type": "markdown",
   "id": "64b7f768",
   "metadata": {
    "papermill": {
     "duration": 0.004727,
     "end_time": "2022-09-12T19:20:03.275856",
     "exception": false,
     "start_time": "2022-09-12T19:20:03.271129",
     "status": "completed"
    },
    "tags": []
   },
   "source": [
    "Functions are powerful. Try writing some yourself.\n",
    "\n",
    "As before, don't forget to run the setup code below before jumping into question 1."
   ]
  },
  {
   "cell_type": "code",
   "execution_count": 1,
   "id": "f2921816",
   "metadata": {
    "_kg_hide-input": true,
    "_kg_hide-output": true,
    "execution": {
     "iopub.execute_input": "2022-09-12T19:20:03.286560Z",
     "iopub.status.busy": "2022-09-12T19:20:03.286014Z",
     "iopub.status.idle": "2022-09-12T19:20:03.351723Z",
     "shell.execute_reply": "2022-09-12T19:20:03.349794Z"
    },
    "papermill": {
     "duration": 0.074371,
     "end_time": "2022-09-12T19:20:03.354560",
     "exception": false,
     "start_time": "2022-09-12T19:20:03.280189",
     "status": "completed"
    },
    "tags": []
   },
   "outputs": [
    {
     "name": "stdout",
     "output_type": "stream",
     "text": [
      "Setup complete.\n"
     ]
    }
   ],
   "source": [
    "# SETUP. You don't need to worry for now about what this code does or how it works.\n",
    "from learntools.core import binder; binder.bind(globals())\n",
    "from learntools.python.ex2 import *\n",
    "print('Setup complete.')"
   ]
  },
  {
   "cell_type": "markdown",
   "id": "f0f6958b",
   "metadata": {
    "papermill": {
     "duration": 0.004629,
     "end_time": "2022-09-12T19:20:03.364532",
     "exception": false,
     "start_time": "2022-09-12T19:20:03.359903",
     "status": "completed"
    },
    "tags": []
   },
   "source": [
    "# 1.\n",
    "\n",
    "Complete the body of the following function according to its docstring.\n",
    "\n",
    "HINT: Python has a built-in function `round`."
   ]
  },
  {
   "cell_type": "code",
   "execution_count": 2,
   "id": "cd283239",
   "metadata": {
    "execution": {
     "iopub.execute_input": "2022-09-12T19:20:03.375286Z",
     "iopub.status.busy": "2022-09-12T19:20:03.374538Z",
     "iopub.status.idle": "2022-09-12T19:20:03.383101Z",
     "shell.execute_reply": "2022-09-12T19:20:03.382455Z"
    },
    "papermill": {
     "duration": 0.016289,
     "end_time": "2022-09-12T19:20:03.384783",
     "exception": false,
     "start_time": "2022-09-12T19:20:03.368494",
     "status": "completed"
    },
    "tags": []
   },
   "outputs": [
    {
     "data": {
      "application/javascript": [
       "parent.postMessage({\"jupyterEvent\": \"custom.exercise_interaction\", \"data\": {\"outcomeType\": 1, \"valueTowardsCompletion\": 0.16666666666666666, \"interactionType\": 1, \"questionType\": 2, \"questionId\": \"1_RoundFunctionProblem\", \"learnToolsVersion\": \"0.3.4\", \"failureMessage\": \"\", \"exceptionClass\": \"\", \"trace\": \"\"}}, \"*\")"
      ],
      "text/plain": [
       "<IPython.core.display.Javascript object>"
      ]
     },
     "metadata": {},
     "output_type": "display_data"
    },
    {
     "data": {
      "text/markdown": [
       "<span style=\"color:#33cc33\">Correct</span>"
      ],
      "text/plain": [
       "Correct"
      ]
     },
     "metadata": {},
     "output_type": "display_data"
    }
   ],
   "source": [
    "def round_to_two_places(num):\n",
    "    \"\"\"Return the given number rounded to two decimal places. \n",
    "    \n",
    "    >>> round_to_two_places(3.14159)\n",
    "    3.14\n",
    "    \"\"\"\n",
    "    return round(num, 2)\n",
    "\n",
    "# Check your answer\n",
    "q1.check()"
   ]
  },
  {
   "cell_type": "code",
   "execution_count": 3,
   "id": "c5c6107b",
   "metadata": {
    "execution": {
     "iopub.execute_input": "2022-09-12T19:20:03.395119Z",
     "iopub.status.busy": "2022-09-12T19:20:03.394802Z",
     "iopub.status.idle": "2022-09-12T19:20:03.398634Z",
     "shell.execute_reply": "2022-09-12T19:20:03.397607Z"
    },
    "papermill": {
     "duration": 0.011665,
     "end_time": "2022-09-12T19:20:03.400924",
     "exception": false,
     "start_time": "2022-09-12T19:20:03.389259",
     "status": "completed"
    },
    "tags": []
   },
   "outputs": [],
   "source": [
    "# Uncomment the following for a hint\n",
    "#q1.hint()\n",
    "# Or uncomment the following to peek at the solution\n",
    "#q1.solution()"
   ]
  },
  {
   "cell_type": "markdown",
   "id": "fc47df0d",
   "metadata": {
    "papermill": {
     "duration": 0.00403,
     "end_time": "2022-09-12T19:20:03.409377",
     "exception": false,
     "start_time": "2022-09-12T19:20:03.405347",
     "status": "completed"
    },
    "tags": []
   },
   "source": [
    "# 2.\n",
    "The help for `round` says that `ndigits` (the second argument) may be negative.\n",
    "What do you think will happen when it is? Try some examples in the following cell."
   ]
  },
  {
   "cell_type": "code",
   "execution_count": 4,
   "id": "6fa1feed",
   "metadata": {
    "execution": {
     "iopub.execute_input": "2022-09-12T19:20:03.419554Z",
     "iopub.status.busy": "2022-09-12T19:20:03.418958Z",
     "iopub.status.idle": "2022-09-12T19:20:03.424899Z",
     "shell.execute_reply": "2022-09-12T19:20:03.423960Z"
    },
    "papermill": {
     "duration": 0.013222,
     "end_time": "2022-09-12T19:20:03.426743",
     "exception": false,
     "start_time": "2022-09-12T19:20:03.413521",
     "status": "completed"
    },
    "tags": []
   },
   "outputs": [
    {
     "data": {
      "text/plain": [
       "0.0"
      ]
     },
     "execution_count": 4,
     "metadata": {},
     "output_type": "execute_result"
    }
   ],
   "source": [
    "round(3.1415926535, -1)"
   ]
  },
  {
   "cell_type": "markdown",
   "id": "7c6cd61a",
   "metadata": {
    "papermill": {
     "duration": 0.004506,
     "end_time": "2022-09-12T19:20:03.435998",
     "exception": false,
     "start_time": "2022-09-12T19:20:03.431492",
     "status": "completed"
    },
    "tags": []
   },
   "source": [
    "Can you think of a case where this would be useful?  Once you're ready, run the code cell below to see the answer and to receive credit for completing the problem."
   ]
  },
  {
   "cell_type": "code",
   "execution_count": 5,
   "id": "3fe98f58",
   "metadata": {
    "execution": {
     "iopub.execute_input": "2022-09-12T19:20:03.446680Z",
     "iopub.status.busy": "2022-09-12T19:20:03.446339Z",
     "iopub.status.idle": "2022-09-12T19:20:03.454914Z",
     "shell.execute_reply": "2022-09-12T19:20:03.453951Z"
    },
    "papermill": {
     "duration": 0.015939,
     "end_time": "2022-09-12T19:20:03.456531",
     "exception": false,
     "start_time": "2022-09-12T19:20:03.440592",
     "status": "completed"
    },
    "tags": []
   },
   "outputs": [
    {
     "data": {
      "application/javascript": [
       "parent.postMessage({\"jupyterEvent\": \"custom.exercise_interaction\", \"data\": {\"interactionType\": 3, \"questionType\": 4, \"questionId\": \"2_RoundNdigitsProblem\", \"learnToolsVersion\": \"0.3.4\", \"valueTowardsCompletion\": 0.0, \"failureMessage\": \"\", \"exceptionClass\": \"\", \"trace\": \"\", \"outcomeType\": 4}}, \"*\")"
      ],
      "text/plain": [
       "<IPython.core.display.Javascript object>"
      ]
     },
     "metadata": {},
     "output_type": "display_data"
    },
    {
     "data": {
      "text/markdown": [
       "<span style=\"color:#33cc99\">Solution:</span> As you've seen, `ndigits=-1` rounds to the nearest 10, `ndigits=-2` rounds to the nearest 100 and so on. Where might this be useful? Suppose we're dealing with large numbers:\n",
       "\n",
       "> The area of Finland is 338,424 km²  \n",
       "> The area of Greenland is 2,166,086 km²\n",
       "\n",
       "We probably don't care whether it's really 338,424, or 338,425, or 338,177. All those digits of accuracy are just distracting. We can chop them off by calling `round()` with `ndigits=-3`:\n",
       "\n",
       "> The area of Finland is 338,000 km²  \n",
       "> The area of Greenland is 2,166,000 km²\n",
       "\n",
       "(We'll talk about how we would get the commas later when we talk about string formatting :))\n"
      ],
      "text/plain": [
       "Solution: As you've seen, `ndigits=-1` rounds to the nearest 10, `ndigits=-2` rounds to the nearest 100 and so on. Where might this be useful? Suppose we're dealing with large numbers:\n",
       "\n",
       "> The area of Finland is 338,424 km²  \n",
       "> The area of Greenland is 2,166,086 km²\n",
       "\n",
       "We probably don't care whether it's really 338,424, or 338,425, or 338,177. All those digits of accuracy are just distracting. We can chop them off by calling `round()` with `ndigits=-3`:\n",
       "\n",
       "> The area of Finland is 338,000 km²  \n",
       "> The area of Greenland is 2,166,000 km²\n",
       "\n",
       "(We'll talk about how we would get the commas later when we talk about string formatting :))"
      ]
     },
     "metadata": {},
     "output_type": "display_data"
    }
   ],
   "source": [
    "# Check your answer (Run this code cell to receive credit!)\n",
    "q2.solution()"
   ]
  },
  {
   "cell_type": "markdown",
   "id": "ecdf5b1c",
   "metadata": {
    "papermill": {
     "duration": 0.004359,
     "end_time": "2022-09-12T19:20:03.465692",
     "exception": false,
     "start_time": "2022-09-12T19:20:03.461333",
     "status": "completed"
    },
    "tags": []
   },
   "source": [
    "# 3.\n",
    "\n",
    "In the previous exercise, the candy-sharing friends Alice, Bob and Carol tried to split candies evenly. For the sake of their friendship, any candies left over would be smashed. For example, if they collectively bring home 91 candies, they'll take 30 each and smash 1.\n",
    "\n",
    "Below is a simple function that will calculate the number of candies to smash for *any* number of total candies.\n",
    "\n",
    "Modify it so that it optionally takes a second argument representing the number of friends the candies are being split between. If no second argument is provided, it should assume 3 friends, as before.\n",
    "\n",
    "Update the docstring to reflect this new behaviour."
   ]
  },
  {
   "cell_type": "code",
   "execution_count": 6,
   "id": "5006fb1a",
   "metadata": {
    "execution": {
     "iopub.execute_input": "2022-09-12T19:20:03.476929Z",
     "iopub.status.busy": "2022-09-12T19:20:03.476163Z",
     "iopub.status.idle": "2022-09-12T19:20:03.484189Z",
     "shell.execute_reply": "2022-09-12T19:20:03.483257Z"
    },
    "papermill": {
     "duration": 0.015553,
     "end_time": "2022-09-12T19:20:03.485869",
     "exception": false,
     "start_time": "2022-09-12T19:20:03.470316",
     "status": "completed"
    },
    "tags": []
   },
   "outputs": [
    {
     "data": {
      "application/javascript": [
       "parent.postMessage({\"jupyterEvent\": \"custom.exercise_interaction\", \"data\": {\"outcomeType\": 1, \"valueTowardsCompletion\": 0.16666666666666666, \"interactionType\": 1, \"questionType\": 2, \"questionId\": \"3_CandySmashingFunctionProblem\", \"learnToolsVersion\": \"0.3.4\", \"failureMessage\": \"\", \"exceptionClass\": \"\", \"trace\": \"\"}}, \"*\")"
      ],
      "text/plain": [
       "<IPython.core.display.Javascript object>"
      ]
     },
     "metadata": {},
     "output_type": "display_data"
    },
    {
     "data": {
      "text/markdown": [
       "<span style=\"color:#33cc33\">Correct</span>"
      ],
      "text/plain": [
       "Correct"
      ]
     },
     "metadata": {},
     "output_type": "display_data"
    }
   ],
   "source": [
    "def to_smash(total_candies, num_friends=3):\n",
    "    \"\"\"Return the number of leftover candies that must be smashed after distributing\n",
    "    the given number of candies evenly between 3 friends.\n",
    "    \n",
    "    >>> to_smash(91)\n",
    "    1\n",
    "    \"\"\"\n",
    "    return total_candies % num_friends\n",
    "\n",
    "# Check your answer\n",
    "q3.check()"
   ]
  },
  {
   "cell_type": "code",
   "execution_count": 7,
   "id": "242f3817",
   "metadata": {
    "execution": {
     "iopub.execute_input": "2022-09-12T19:20:03.497994Z",
     "iopub.status.busy": "2022-09-12T19:20:03.497330Z",
     "iopub.status.idle": "2022-09-12T19:20:03.501438Z",
     "shell.execute_reply": "2022-09-12T19:20:03.500513Z"
    },
    "papermill": {
     "duration": 0.012538,
     "end_time": "2022-09-12T19:20:03.503316",
     "exception": false,
     "start_time": "2022-09-12T19:20:03.490778",
     "status": "completed"
    },
    "tags": []
   },
   "outputs": [],
   "source": [
    "#q3.hint()"
   ]
  },
  {
   "cell_type": "code",
   "execution_count": 8,
   "id": "9eab849e",
   "metadata": {
    "execution": {
     "iopub.execute_input": "2022-09-12T19:20:03.514658Z",
     "iopub.status.busy": "2022-09-12T19:20:03.514026Z",
     "iopub.status.idle": "2022-09-12T19:20:03.517417Z",
     "shell.execute_reply": "2022-09-12T19:20:03.516739Z"
    },
    "papermill": {
     "duration": 0.01108,
     "end_time": "2022-09-12T19:20:03.519143",
     "exception": false,
     "start_time": "2022-09-12T19:20:03.508063",
     "status": "completed"
    },
    "tags": []
   },
   "outputs": [],
   "source": [
    "#q3.solution()"
   ]
  },
  {
   "cell_type": "markdown",
   "id": "bfa1442a",
   "metadata": {
    "papermill": {
     "duration": 0.004641,
     "end_time": "2022-09-12T19:20:03.528759",
     "exception": false,
     "start_time": "2022-09-12T19:20:03.524118",
     "status": "completed"
    },
    "tags": []
   },
   "source": [
    "# 4. (Optional)\n",
    "\n",
    "It may not be fun, but reading and understanding error messages will be an important part of your Python career.\n",
    "\n",
    "Each code cell below contains some commented buggy code. For each cell...\n",
    "\n",
    "1. Read the code and predict what you think will happen when it's run.\n",
    "2. Then uncomment the code and run it to see what happens. (**Tip**: In the kernel editor, you can highlight several lines and press `ctrl`+`/` to toggle commenting.)\n",
    "3. Fix the code (so that it accomplishes its intended purpose without throwing an exception)\n",
    "\n",
    "<!-- TODO: should this be autochecked? Delta is probably pretty small. -->"
   ]
  },
  {
   "cell_type": "code",
   "execution_count": 9,
   "id": "76129cdc",
   "metadata": {
    "execution": {
     "iopub.execute_input": "2022-09-12T19:20:03.540811Z",
     "iopub.status.busy": "2022-09-12T19:20:03.540454Z",
     "iopub.status.idle": "2022-09-12T19:20:03.545966Z",
     "shell.execute_reply": "2022-09-12T19:20:03.544867Z"
    },
    "papermill": {
     "duration": 0.014593,
     "end_time": "2022-09-12T19:20:03.548171",
     "exception": false,
     "start_time": "2022-09-12T19:20:03.533578",
     "status": "completed"
    },
    "tags": []
   },
   "outputs": [
    {
     "data": {
      "text/plain": [
       "10.0"
      ]
     },
     "execution_count": 9,
     "metadata": {},
     "output_type": "execute_result"
    }
   ],
   "source": [
    "round_to_two_places(9.9999)"
   ]
  },
  {
   "cell_type": "code",
   "execution_count": 10,
   "id": "b0cc0253",
   "metadata": {
    "execution": {
     "iopub.execute_input": "2022-09-12T19:20:03.560645Z",
     "iopub.status.busy": "2022-09-12T19:20:03.560025Z",
     "iopub.status.idle": "2022-09-12T19:20:03.565910Z",
     "shell.execute_reply": "2022-09-12T19:20:03.564162Z"
    },
    "papermill": {
     "duration": 0.015019,
     "end_time": "2022-09-12T19:20:03.568645",
     "exception": false,
     "start_time": "2022-09-12T19:20:03.553626",
     "status": "completed"
    },
    "tags": []
   },
   "outputs": [
    {
     "name": "stdout",
     "output_type": "stream",
     "text": [
      "5\n"
     ]
    }
   ],
   "source": [
    "x = -10\n",
    "y = 5\n",
    "# Which of the two variables above has the smallest absolute value?\n",
    "smallest_abs = min(abs(x), abs(y))\n",
    "print(smallest_abs)"
   ]
  },
  {
   "cell_type": "code",
   "execution_count": 11,
   "id": "1810a76a",
   "metadata": {
    "execution": {
     "iopub.execute_input": "2022-09-12T19:20:03.581325Z",
     "iopub.status.busy": "2022-09-12T19:20:03.580229Z",
     "iopub.status.idle": "2022-09-12T19:20:03.586542Z",
     "shell.execute_reply": "2022-09-12T19:20:03.584997Z"
    },
    "papermill": {
     "duration": 0.014062,
     "end_time": "2022-09-12T19:20:03.588399",
     "exception": false,
     "start_time": "2022-09-12T19:20:03.574337",
     "status": "completed"
    },
    "tags": []
   },
   "outputs": [
    {
     "name": "stdout",
     "output_type": "stream",
     "text": [
      "5\n"
     ]
    }
   ],
   "source": [
    "def f(x):\n",
    "    y = abs(x)\n",
    "    return y\n",
    "\n",
    "print(f(5))"
   ]
  },
  {
   "cell_type": "markdown",
   "id": "3131c8f2",
   "metadata": {
    "papermill": {
     "duration": 0.004854,
     "end_time": "2022-09-12T19:20:03.598381",
     "exception": false,
     "start_time": "2022-09-12T19:20:03.593527",
     "status": "completed"
    },
    "tags": []
   },
   "source": [
    "# Keep Going\n",
    "\n",
    "Nice job with the code. Next up, you'll learn about *conditionals*, which you'll need to **[write interesting programs](https://www.kaggle.com/colinmorris/booleans-and-conditionals)**. "
   ]
  },
  {
   "cell_type": "markdown",
   "id": "1626df33",
   "metadata": {
    "papermill": {
     "duration": 0.004826,
     "end_time": "2022-09-12T19:20:03.608316",
     "exception": false,
     "start_time": "2022-09-12T19:20:03.603490",
     "status": "completed"
    },
    "tags": []
   },
   "source": [
    "---\n",
    "\n",
    "\n",
    "\n",
    "\n",
    "*Have questions or comments? Visit the [course discussion forum](https://www.kaggle.com/learn/python/discussion) to chat with other learners.*"
   ]
  }
 ],
 "metadata": {
  "kernelspec": {
   "display_name": "Python 3",
   "language": "python",
   "name": "python3"
  },
  "language_info": {
   "codemirror_mode": {
    "name": "ipython",
    "version": 3
   },
   "file_extension": ".py",
   "mimetype": "text/x-python",
   "name": "python",
   "nbconvert_exporter": "python",
   "pygments_lexer": "ipython3",
   "version": "3.7.12"
  },
  "papermill": {
   "default_parameters": {},
   "duration": 9.089261,
   "end_time": "2022-09-12T19:20:04.231885",
   "environment_variables": {},
   "exception": null,
   "input_path": "__notebook__.ipynb",
   "output_path": "__notebook__.ipynb",
   "parameters": {},
   "start_time": "2022-09-12T19:19:55.142624",
   "version": "2.3.4"
  }
 },
 "nbformat": 4,
 "nbformat_minor": 5
}
