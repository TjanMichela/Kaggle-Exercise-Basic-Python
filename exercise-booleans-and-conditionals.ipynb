{
 "cells": [
  {
   "cell_type": "markdown",
   "id": "f227638d",
   "metadata": {
    "papermill": {
     "duration": 0.010728,
     "end_time": "2022-09-13T00:12:31.287136",
     "exception": false,
     "start_time": "2022-09-13T00:12:31.276408",
     "status": "completed"
    },
    "tags": []
   },
   "source": [
    "**This notebook is an exercise in the [Python](https://www.kaggle.com/learn/python) course.  You can reference the tutorial at [this link](https://www.kaggle.com/colinmorris/booleans-and-conditionals).**\n",
    "\n",
    "---\n"
   ]
  },
  {
   "cell_type": "markdown",
   "id": "de0083a3",
   "metadata": {
    "papermill": {
     "duration": 0.008939,
     "end_time": "2022-09-13T00:12:31.305736",
     "exception": false,
     "start_time": "2022-09-13T00:12:31.296797",
     "status": "completed"
    },
    "tags": []
   },
   "source": [
    "In this exercise, you'll put to work what you have learned about booleans and conditionals.\n",
    "\n",
    "To get started, **run the setup code below** before writing your own code (and if you leave this notebook and come back later, don't forget to run the setup code again)."
   ]
  },
  {
   "cell_type": "code",
   "execution_count": 1,
   "id": "caa4cb00",
   "metadata": {
    "execution": {
     "iopub.execute_input": "2022-09-13T00:12:31.326278Z",
     "iopub.status.busy": "2022-09-13T00:12:31.325585Z",
     "iopub.status.idle": "2022-09-13T00:12:31.384164Z",
     "shell.execute_reply": "2022-09-13T00:12:31.382506Z"
    },
    "papermill": {
     "duration": 0.072496,
     "end_time": "2022-09-13T00:12:31.387392",
     "exception": false,
     "start_time": "2022-09-13T00:12:31.314896",
     "status": "completed"
    },
    "tags": []
   },
   "outputs": [
    {
     "name": "stdout",
     "output_type": "stream",
     "text": [
      "Setup complete.\n"
     ]
    }
   ],
   "source": [
    "from learntools.core import binder; binder.bind(globals())\n",
    "from learntools.python.ex3 import *\n",
    "print('Setup complete.')"
   ]
  },
  {
   "cell_type": "markdown",
   "id": "031ec2a1",
   "metadata": {
    "papermill": {
     "duration": 0.008724,
     "end_time": "2022-09-13T00:12:31.405305",
     "exception": false,
     "start_time": "2022-09-13T00:12:31.396581",
     "status": "completed"
    },
    "tags": []
   },
   "source": [
    "# 1.\n",
    "\n",
    "Many programming languages have [`sign`](https://en.wikipedia.org/wiki/Sign_function) available as a built-in function. Python doesn't, but we can define our own!\n",
    "\n",
    "In the cell below, define a function called `sign` which takes a numerical argument and returns -1 if it's negative, 1 if it's positive, and 0 if it's 0."
   ]
  },
  {
   "cell_type": "code",
   "execution_count": 2,
   "id": "f21ebe9c",
   "metadata": {
    "execution": {
     "iopub.execute_input": "2022-09-13T00:12:31.426207Z",
     "iopub.status.busy": "2022-09-13T00:12:31.424751Z",
     "iopub.status.idle": "2022-09-13T00:12:31.436195Z",
     "shell.execute_reply": "2022-09-13T00:12:31.435368Z"
    },
    "papermill": {
     "duration": 0.024046,
     "end_time": "2022-09-13T00:12:31.438275",
     "exception": false,
     "start_time": "2022-09-13T00:12:31.414229",
     "status": "completed"
    },
    "tags": []
   },
   "outputs": [
    {
     "data": {
      "application/javascript": [
       "parent.postMessage({\"jupyterEvent\": \"custom.exercise_interaction\", \"data\": {\"outcomeType\": 1, \"valueTowardsCompletion\": 0.2, \"interactionType\": 1, \"questionType\": 2, \"questionId\": \"1_SignFunctionProblem\", \"learnToolsVersion\": \"0.3.4\", \"failureMessage\": \"\", \"exceptionClass\": \"\", \"trace\": \"\"}}, \"*\")"
      ],
      "text/plain": [
       "<IPython.core.display.Javascript object>"
      ]
     },
     "metadata": {},
     "output_type": "display_data"
    },
    {
     "data": {
      "text/markdown": [
       "<span style=\"color:#33cc33\">Correct</span>"
      ],
      "text/plain": [
       "Correct"
      ]
     },
     "metadata": {},
     "output_type": "display_data"
    }
   ],
   "source": [
    "# Your code goes here. Define a function called 'sign'\n",
    "def sign(num):\n",
    "    if num < 0:\n",
    "        return -1\n",
    "    if num == 0: \n",
    "        return 0\n",
    "    if num > 0: \n",
    "        return 1\n",
    "    \n",
    "# Check your answer\n",
    "q1.check()"
   ]
  },
  {
   "cell_type": "code",
   "execution_count": 3,
   "id": "c521a02a",
   "metadata": {
    "execution": {
     "iopub.execute_input": "2022-09-13T00:12:31.458841Z",
     "iopub.status.busy": "2022-09-13T00:12:31.458226Z",
     "iopub.status.idle": "2022-09-13T00:12:31.462319Z",
     "shell.execute_reply": "2022-09-13T00:12:31.461539Z"
    },
    "papermill": {
     "duration": 0.017073,
     "end_time": "2022-09-13T00:12:31.464468",
     "exception": false,
     "start_time": "2022-09-13T00:12:31.447395",
     "status": "completed"
    },
    "tags": []
   },
   "outputs": [],
   "source": [
    "#q1.solution()"
   ]
  },
  {
   "cell_type": "markdown",
   "id": "b0f2a622",
   "metadata": {
    "papermill": {
     "duration": 0.00902,
     "end_time": "2022-09-13T00:12:31.482829",
     "exception": false,
     "start_time": "2022-09-13T00:12:31.473809",
     "status": "completed"
    },
    "tags": []
   },
   "source": [
    "# 2.\n",
    "\n",
    "We've decided to add \"logging\" to our `to_smash` function from the previous exercise."
   ]
  },
  {
   "cell_type": "code",
   "execution_count": 4,
   "id": "d6c85d2b",
   "metadata": {
    "execution": {
     "iopub.execute_input": "2022-09-13T00:12:31.504552Z",
     "iopub.status.busy": "2022-09-13T00:12:31.504086Z",
     "iopub.status.idle": "2022-09-13T00:12:31.511317Z",
     "shell.execute_reply": "2022-09-13T00:12:31.510535Z"
    },
    "papermill": {
     "duration": 0.021771,
     "end_time": "2022-09-13T00:12:31.515046",
     "exception": false,
     "start_time": "2022-09-13T00:12:31.493275",
     "status": "completed"
    },
    "tags": []
   },
   "outputs": [
    {
     "name": "stdout",
     "output_type": "stream",
     "text": [
      "Splitting 91 candies\n"
     ]
    },
    {
     "data": {
      "text/plain": [
       "1"
      ]
     },
     "execution_count": 4,
     "metadata": {},
     "output_type": "execute_result"
    }
   ],
   "source": [
    "def to_smash(total_candies):\n",
    "    \"\"\"Return the number of leftover candies that must be smashed after distributing\n",
    "    the given number of candies evenly between 3 friends.\n",
    "    \n",
    "    >>> to_smash(91)\n",
    "    1\n",
    "    \"\"\"\n",
    "    print(\"Splitting\", total_candies, \"candies\")\n",
    "    return total_candies % 3\n",
    "\n",
    "to_smash(91)"
   ]
  },
  {
   "cell_type": "markdown",
   "id": "877410a7",
   "metadata": {
    "papermill": {
     "duration": 0.011547,
     "end_time": "2022-09-13T00:12:31.536521",
     "exception": false,
     "start_time": "2022-09-13T00:12:31.524974",
     "status": "completed"
    },
    "tags": []
   },
   "source": [
    "What happens if we call it with `total_candies = 1`?"
   ]
  },
  {
   "cell_type": "code",
   "execution_count": 5,
   "id": "e28788a1",
   "metadata": {
    "execution": {
     "iopub.execute_input": "2022-09-13T00:12:31.557491Z",
     "iopub.status.busy": "2022-09-13T00:12:31.556871Z",
     "iopub.status.idle": "2022-09-13T00:12:31.564258Z",
     "shell.execute_reply": "2022-09-13T00:12:31.562030Z"
    },
    "papermill": {
     "duration": 0.021582,
     "end_time": "2022-09-13T00:12:31.567441",
     "exception": false,
     "start_time": "2022-09-13T00:12:31.545859",
     "status": "completed"
    },
    "tags": []
   },
   "outputs": [
    {
     "name": "stdout",
     "output_type": "stream",
     "text": [
      "Splitting 1 candies\n"
     ]
    },
    {
     "data": {
      "text/plain": [
       "1"
      ]
     },
     "execution_count": 5,
     "metadata": {},
     "output_type": "execute_result"
    }
   ],
   "source": [
    "to_smash(1)"
   ]
  },
  {
   "cell_type": "markdown",
   "id": "ac30f87d",
   "metadata": {
    "papermill": {
     "duration": 0.009849,
     "end_time": "2022-09-13T00:12:31.587234",
     "exception": false,
     "start_time": "2022-09-13T00:12:31.577385",
     "status": "completed"
    },
    "tags": []
   },
   "source": [
    "That isn't great grammar!\n",
    "\n",
    "Modify the definition in the cell below to correct the grammar of our print statement. (If there's only one candy, we should use the singular \"candy\" instead of the plural \"candies\")"
   ]
  },
  {
   "cell_type": "code",
   "execution_count": 6,
   "id": "4b8435e4",
   "metadata": {
    "execution": {
     "iopub.execute_input": "2022-09-13T00:12:31.609499Z",
     "iopub.status.busy": "2022-09-13T00:12:31.608991Z",
     "iopub.status.idle": "2022-09-13T00:12:31.620353Z",
     "shell.execute_reply": "2022-09-13T00:12:31.618394Z"
    },
    "papermill": {
     "duration": 0.025561,
     "end_time": "2022-09-13T00:12:31.622878",
     "exception": false,
     "start_time": "2022-09-13T00:12:31.597317",
     "status": "completed"
    },
    "tags": []
   },
   "outputs": [
    {
     "name": "stdout",
     "output_type": "stream",
     "text": [
      "Splitting 91 candies\n",
      "Splitting 1 candy\n"
     ]
    },
    {
     "data": {
      "text/plain": [
       "1"
      ]
     },
     "execution_count": 6,
     "metadata": {},
     "output_type": "execute_result"
    }
   ],
   "source": [
    "def to_smash(total_candies):\n",
    "    \"\"\"Return the number of leftover candies that must be smashed after distributing\n",
    "    the given number of candies evenly between 3 friends.\n",
    "    \n",
    "    >>> to_smash(91)\n",
    "    1\n",
    "    \"\"\"\n",
    "    if total_candies > 1:\n",
    "        print(\"Splitting\", total_candies, \"candies\")\n",
    "    else:\n",
    "        print(f\"Splitting {total_candies} candy\")\n",
    "    return total_candies % 3\n",
    "\n",
    "to_smash(91)\n",
    "to_smash(1)"
   ]
  },
  {
   "cell_type": "markdown",
   "id": "f175d78c",
   "metadata": {
    "papermill": {
     "duration": 0.009906,
     "end_time": "2022-09-13T00:12:31.642990",
     "exception": false,
     "start_time": "2022-09-13T00:12:31.633084",
     "status": "completed"
    },
    "tags": []
   },
   "source": [
    "To get credit for completing this problem, and to see the official answer, run the code cell below."
   ]
  },
  {
   "cell_type": "code",
   "execution_count": 7,
   "id": "8c62c800",
   "metadata": {
    "execution": {
     "iopub.execute_input": "2022-09-13T00:12:31.665028Z",
     "iopub.status.busy": "2022-09-13T00:12:31.664012Z",
     "iopub.status.idle": "2022-09-13T00:12:31.675139Z",
     "shell.execute_reply": "2022-09-13T00:12:31.673708Z"
    },
    "papermill": {
     "duration": 0.025347,
     "end_time": "2022-09-13T00:12:31.678143",
     "exception": false,
     "start_time": "2022-09-13T00:12:31.652796",
     "status": "completed"
    },
    "tags": []
   },
   "outputs": [
    {
     "data": {
      "application/javascript": [
       "parent.postMessage({\"jupyterEvent\": \"custom.exercise_interaction\", \"data\": {\"interactionType\": 3, \"questionType\": 4, \"questionId\": \"2_PluralizationProblem\", \"learnToolsVersion\": \"0.3.4\", \"valueTowardsCompletion\": 0.0, \"failureMessage\": \"\", \"exceptionClass\": \"\", \"trace\": \"\", \"outcomeType\": 4}}, \"*\")"
      ],
      "text/plain": [
       "<IPython.core.display.Javascript object>"
      ]
     },
     "metadata": {},
     "output_type": "display_data"
    },
    {
     "data": {
      "text/markdown": [
       "<span style=\"color:#33cc99\">Solution:</span> A straightforward (and totally fine) solution is to replace the original `print` call with:\n",
       "\n",
       "```python\n",
       "if total_candies == 1:\n",
       "    print(\"Splitting 1 candy\")\n",
       "else:\n",
       "    print(\"Splitting\", total_candies, \"candies\")\n",
       "```\n",
       "\n",
       "Here's a slightly more succinct solution using a conditional expression:\n",
       "\n",
       "```python\n",
       "print(\"Splitting\", total_candies, \"candy\" if total_candies == 1 else \"candies\")\n",
       "```"
      ],
      "text/plain": [
       "Solution: A straightforward (and totally fine) solution is to replace the original `print` call with:\n",
       "\n",
       "```python\n",
       "if total_candies == 1:\n",
       "    print(\"Splitting 1 candy\")\n",
       "else:\n",
       "    print(\"Splitting\", total_candies, \"candies\")\n",
       "```\n",
       "\n",
       "Here's a slightly more succinct solution using a conditional expression:\n",
       "\n",
       "```python\n",
       "print(\"Splitting\", total_candies, \"candy\" if total_candies == 1 else \"candies\")\n",
       "```"
      ]
     },
     "metadata": {},
     "output_type": "display_data"
    }
   ],
   "source": [
    "# Check your answer (Run this code cell to receive credit!)\n",
    "q2.solution()"
   ]
  },
  {
   "cell_type": "markdown",
   "id": "b1480969",
   "metadata": {
    "papermill": {
     "duration": 0.009494,
     "end_time": "2022-09-13T00:12:31.698045",
     "exception": false,
     "start_time": "2022-09-13T00:12:31.688551",
     "status": "completed"
    },
    "tags": []
   },
   "source": [
    "# 3. <span title=\"A bit spicy\" style=\"color: darkgreen \">🌶️</span>\n",
    "\n",
    "In the tutorial, we talked about deciding whether we're prepared for the weather. I said that I'm safe from today's weather if...\n",
    "- I have an umbrella...\n",
    "- or if the rain isn't too heavy and I have a hood...\n",
    "- otherwise, I'm still fine unless it's raining *and* it's a workday\n",
    "\n",
    "The function below uses our first attempt at turning this logic into a Python expression. I claimed that there was a bug in that code. Can you find it?\n",
    "\n",
    "To prove that `prepared_for_weather` is buggy, come up with a set of inputs where either:\n",
    "- the function returns `False` (but should have returned `True`), or\n",
    "- the function returned `True` (but should have returned `False`).\n",
    "\n",
    "To get credit for completing this question, your code should return a <font color='#33cc33'>Correct</font> result."
   ]
  },
  {
   "cell_type": "code",
   "execution_count": 8,
   "id": "e2d4f3c2",
   "metadata": {
    "execution": {
     "iopub.execute_input": "2022-09-13T00:12:31.721248Z",
     "iopub.status.busy": "2022-09-13T00:12:31.720206Z",
     "iopub.status.idle": "2022-09-13T00:12:31.732039Z",
     "shell.execute_reply": "2022-09-13T00:12:31.730589Z"
    },
    "papermill": {
     "duration": 0.027221,
     "end_time": "2022-09-13T00:12:31.735277",
     "exception": false,
     "start_time": "2022-09-13T00:12:31.708056",
     "status": "completed"
    },
    "tags": []
   },
   "outputs": [
    {
     "name": "stdout",
     "output_type": "stream",
     "text": [
      "False\n"
     ]
    },
    {
     "data": {
      "application/javascript": [
       "parent.postMessage({\"jupyterEvent\": \"custom.exercise_interaction\", \"data\": {\"outcomeType\": 1, \"valueTowardsCompletion\": 0.2, \"interactionType\": 1, \"questionType\": 1, \"questionId\": \"3_WeatherDebug\", \"learnToolsVersion\": \"0.3.4\", \"failureMessage\": \"\", \"exceptionClass\": \"\", \"trace\": \"\"}}, \"*\")"
      ],
      "text/plain": [
       "<IPython.core.display.Javascript object>"
      ]
     },
     "metadata": {},
     "output_type": "display_data"
    },
    {
     "data": {
      "text/markdown": [
       "<span style=\"color:#33cc33\">Correct:</span> \n",
       "\n",
       "One example of a failing test case is:\n",
       "\n",
       "```python\n",
       "have_umbrella = False\n",
       "rain_level = 0.0\n",
       "have_hood = False\n",
       "is_workday = False\n",
       "```\n",
       "\n",
       "Clearly we're prepared for the weather in this case. It's not raining. Not only that, it's not a workday, so we don't even need to leave the house! But our function will return False on these inputs.\n",
       "\n",
       "The key problem is that Python implictly parenthesizes the last part as:\n",
       "\n",
       "```python\n",
       "(not (rain_level > 0)) and is_workday\n",
       "```\n",
       "\n",
       "Whereas what we were trying to express would look more like:\n",
       "\n",
       "```python\n",
       "not (rain_level > 0 and is_workday)\n",
       "```\n"
      ],
      "text/plain": [
       "Correct: \n",
       "\n",
       "One example of a failing test case is:\n",
       "\n",
       "```python\n",
       "have_umbrella = False\n",
       "rain_level = 0.0\n",
       "have_hood = False\n",
       "is_workday = False\n",
       "```\n",
       "\n",
       "Clearly we're prepared for the weather in this case. It's not raining. Not only that, it's not a workday, so we don't even need to leave the house! But our function will return False on these inputs.\n",
       "\n",
       "The key problem is that Python implictly parenthesizes the last part as:\n",
       "\n",
       "```python\n",
       "(not (rain_level > 0)) and is_workday\n",
       "```\n",
       "\n",
       "Whereas what we were trying to express would look more like:\n",
       "\n",
       "```python\n",
       "not (rain_level > 0 and is_workday)\n",
       "```"
      ]
     },
     "metadata": {},
     "output_type": "display_data"
    }
   ],
   "source": [
    "def prepared_for_weather(have_umbrella, rain_level, have_hood, is_workday):\n",
    "    # Don't change this code. Our goal is just to find the bug, not fix it!\n",
    "    return have_umbrella or rain_level < 5 and have_hood or not rain_level > 0 and is_workday\n",
    "\n",
    "# Change the values of these inputs so they represent a case where prepared_for_weather\n",
    "# returns the wrong answer.\n",
    "have_umbrella = False\n",
    "rain_level = 0.0\n",
    "have_hood = False\n",
    "is_workday = False\n",
    "\n",
    "# Check what the function returns given the current values of the variables above\n",
    "actual = prepared_for_weather(have_umbrella, rain_level, have_hood, is_workday)\n",
    "print(actual)\n",
    "\n",
    "# Check your answer\n",
    "q3.check()"
   ]
  },
  {
   "cell_type": "code",
   "execution_count": 9,
   "id": "568d33c3",
   "metadata": {
    "execution": {
     "iopub.execute_input": "2022-09-13T00:12:31.759289Z",
     "iopub.status.busy": "2022-09-13T00:12:31.758128Z",
     "iopub.status.idle": "2022-09-13T00:12:31.763234Z",
     "shell.execute_reply": "2022-09-13T00:12:31.762486Z"
    },
    "papermill": {
     "duration": 0.019444,
     "end_time": "2022-09-13T00:12:31.765549",
     "exception": false,
     "start_time": "2022-09-13T00:12:31.746105",
     "status": "completed"
    },
    "tags": []
   },
   "outputs": [],
   "source": [
    "#q3.hint()\n",
    "#q3.solution()"
   ]
  },
  {
   "cell_type": "markdown",
   "id": "48362000",
   "metadata": {
    "papermill": {
     "duration": 0.010488,
     "end_time": "2022-09-13T00:12:31.786671",
     "exception": false,
     "start_time": "2022-09-13T00:12:31.776183",
     "status": "completed"
    },
    "tags": []
   },
   "source": [
    "# 4.\n",
    "\n",
    "The function `is_negative` below is implemented correctly - it returns True if the given number is negative and False otherwise.\n",
    "\n",
    "However, it's more verbose than it needs to be. We can actually reduce the number of lines of code in this function by *75%* while keeping the same behaviour. \n",
    "\n",
    "See if you can come up with an equivalent body that uses just **one line** of code, and put it in the function `concise_is_negative`. (HINT: you don't even need Python's ternary syntax)"
   ]
  },
  {
   "cell_type": "code",
   "execution_count": 10,
   "id": "78451678",
   "metadata": {
    "execution": {
     "iopub.execute_input": "2022-09-13T00:12:31.810283Z",
     "iopub.status.busy": "2022-09-13T00:12:31.809437Z",
     "iopub.status.idle": "2022-09-13T00:12:31.819916Z",
     "shell.execute_reply": "2022-09-13T00:12:31.819028Z"
    },
    "papermill": {
     "duration": 0.024972,
     "end_time": "2022-09-13T00:12:31.822145",
     "exception": false,
     "start_time": "2022-09-13T00:12:31.797173",
     "status": "completed"
    },
    "tags": []
   },
   "outputs": [
    {
     "data": {
      "application/javascript": [
       "parent.postMessage({\"jupyterEvent\": \"custom.exercise_interaction\", \"data\": {\"outcomeType\": 1, \"valueTowardsCompletion\": 0.2, \"interactionType\": 1, \"questionType\": 2, \"questionId\": \"4_ConciseIsNegative\", \"learnToolsVersion\": \"0.3.4\", \"failureMessage\": \"\", \"exceptionClass\": \"\", \"trace\": \"\"}}, \"*\")"
      ],
      "text/plain": [
       "<IPython.core.display.Javascript object>"
      ]
     },
     "metadata": {},
     "output_type": "display_data"
    },
    {
     "data": {
      "text/markdown": [
       "<span style=\"color:#33cc33\">Correct</span>"
      ],
      "text/plain": [
       "Correct"
      ]
     },
     "metadata": {},
     "output_type": "display_data"
    }
   ],
   "source": [
    "def is_negative(number):\n",
    "    if number < 0:\n",
    "        return True\n",
    "    else:\n",
    "        return False\n",
    "\n",
    "def concise_is_negative(number):\n",
    "    return is_negative(number)\n",
    "\n",
    "# Check your answer\n",
    "q4.check()"
   ]
  },
  {
   "cell_type": "code",
   "execution_count": 11,
   "id": "aca35794",
   "metadata": {
    "execution": {
     "iopub.execute_input": "2022-09-13T00:12:31.846376Z",
     "iopub.status.busy": "2022-09-13T00:12:31.845674Z",
     "iopub.status.idle": "2022-09-13T00:12:31.850228Z",
     "shell.execute_reply": "2022-09-13T00:12:31.849452Z"
    },
    "papermill": {
     "duration": 0.019482,
     "end_time": "2022-09-13T00:12:31.852352",
     "exception": false,
     "start_time": "2022-09-13T00:12:31.832870",
     "status": "completed"
    },
    "tags": []
   },
   "outputs": [],
   "source": [
    "#q4.hint()\n",
    "#q4.solution()"
   ]
  },
  {
   "cell_type": "markdown",
   "id": "f1185087",
   "metadata": {
    "papermill": {
     "duration": 0.010417,
     "end_time": "2022-09-13T00:12:31.874016",
     "exception": false,
     "start_time": "2022-09-13T00:12:31.863599",
     "status": "completed"
    },
    "tags": []
   },
   "source": [
    "# 5a.\n",
    "\n",
    "The boolean variables `ketchup`, `mustard` and `onion` represent whether a customer wants a particular topping on their hot dog. We want to implement a number of boolean functions that correspond to some yes-or-no questions about the customer's order. For example:"
   ]
  },
  {
   "cell_type": "code",
   "execution_count": 12,
   "id": "49d4a5bd",
   "metadata": {
    "execution": {
     "iopub.execute_input": "2022-09-13T00:12:31.898605Z",
     "iopub.status.busy": "2022-09-13T00:12:31.897771Z",
     "iopub.status.idle": "2022-09-13T00:12:31.903563Z",
     "shell.execute_reply": "2022-09-13T00:12:31.902509Z"
    },
    "papermill": {
     "duration": 0.020929,
     "end_time": "2022-09-13T00:12:31.905918",
     "exception": false,
     "start_time": "2022-09-13T00:12:31.884989",
     "status": "completed"
    },
    "tags": []
   },
   "outputs": [],
   "source": [
    "def onionless(ketchup, mustard, onion):\n",
    "    \"\"\"Return whether the customer doesn't want onions.\n",
    "    \"\"\"\n",
    "    return not onion"
   ]
  },
  {
   "cell_type": "code",
   "execution_count": 13,
   "id": "ab431f52",
   "metadata": {
    "execution": {
     "iopub.execute_input": "2022-09-13T00:12:31.931054Z",
     "iopub.status.busy": "2022-09-13T00:12:31.930246Z",
     "iopub.status.idle": "2022-09-13T00:12:31.940623Z",
     "shell.execute_reply": "2022-09-13T00:12:31.939499Z"
    },
    "papermill": {
     "duration": 0.025904,
     "end_time": "2022-09-13T00:12:31.943076",
     "exception": false,
     "start_time": "2022-09-13T00:12:31.917172",
     "status": "completed"
    },
    "tags": []
   },
   "outputs": [
    {
     "data": {
      "application/javascript": [
       "parent.postMessage({\"jupyterEvent\": \"custom.exercise_interaction\", \"data\": {\"outcomeType\": 1, \"valueTowardsCompletion\": 0.2, \"interactionType\": 1, \"questionType\": 2, \"questionId\": \"5.1_AllToppings\", \"learnToolsVersion\": \"0.3.4\", \"failureMessage\": \"\", \"exceptionClass\": \"\", \"trace\": \"\"}}, \"*\")"
      ],
      "text/plain": [
       "<IPython.core.display.Javascript object>"
      ]
     },
     "metadata": {},
     "output_type": "display_data"
    },
    {
     "data": {
      "text/markdown": [
       "<span style=\"color:#33cc33\">Correct</span>"
      ],
      "text/plain": [
       "Correct"
      ]
     },
     "metadata": {},
     "output_type": "display_data"
    }
   ],
   "source": [
    "def wants_all_toppings(ketchup, mustard, onion):\n",
    "    \"\"\"Return whether the customer wants \"the works\" (all 3 toppings)\n",
    "    \"\"\"\n",
    "    return ketchup and mustard and onion\n",
    "\n",
    "# Check your answer\n",
    "q5.a.check()"
   ]
  },
  {
   "cell_type": "code",
   "execution_count": 14,
   "id": "0445a8a5",
   "metadata": {
    "execution": {
     "iopub.execute_input": "2022-09-13T00:12:31.968117Z",
     "iopub.status.busy": "2022-09-13T00:12:31.967396Z",
     "iopub.status.idle": "2022-09-13T00:12:31.971932Z",
     "shell.execute_reply": "2022-09-13T00:12:31.971174Z"
    },
    "papermill": {
     "duration": 0.019768,
     "end_time": "2022-09-13T00:12:31.974094",
     "exception": false,
     "start_time": "2022-09-13T00:12:31.954326",
     "status": "completed"
    },
    "tags": []
   },
   "outputs": [],
   "source": [
    "#q5.a.hint()\n",
    "#q5.a.solution()"
   ]
  },
  {
   "cell_type": "markdown",
   "id": "f968990a",
   "metadata": {
    "papermill": {
     "duration": 0.011104,
     "end_time": "2022-09-13T00:12:31.996149",
     "exception": false,
     "start_time": "2022-09-13T00:12:31.985045",
     "status": "completed"
    },
    "tags": []
   },
   "source": [
    "# 5b.\n",
    "\n",
    "For the next function, fill in the body to match the English description in the docstring. "
   ]
  },
  {
   "cell_type": "code",
   "execution_count": 15,
   "id": "78c46dba",
   "metadata": {
    "execution": {
     "iopub.execute_input": "2022-09-13T00:12:32.021023Z",
     "iopub.status.busy": "2022-09-13T00:12:32.020171Z",
     "iopub.status.idle": "2022-09-13T00:12:32.030282Z",
     "shell.execute_reply": "2022-09-13T00:12:32.029369Z"
    },
    "papermill": {
     "duration": 0.02532,
     "end_time": "2022-09-13T00:12:32.032659",
     "exception": false,
     "start_time": "2022-09-13T00:12:32.007339",
     "status": "completed"
    },
    "tags": []
   },
   "outputs": [
    {
     "data": {
      "application/javascript": [
       "parent.postMessage({\"jupyterEvent\": \"custom.exercise_interaction\", \"data\": {\"outcomeType\": 1, \"valueTowardsCompletion\": 0.2, \"interactionType\": 1, \"questionType\": 2, \"questionId\": \"5.2_PlainDog\", \"learnToolsVersion\": \"0.3.4\", \"failureMessage\": \"\", \"exceptionClass\": \"\", \"trace\": \"\"}}, \"*\")"
      ],
      "text/plain": [
       "<IPython.core.display.Javascript object>"
      ]
     },
     "metadata": {},
     "output_type": "display_data"
    },
    {
     "data": {
      "text/markdown": [
       "<span style=\"color:#33cc33\">Correct:</span> \n",
       "\n",
       "One solution looks like:\n",
       "```python\n",
       "return not ketchup and not mustard and not onion\n",
       "```\n",
       "\n",
       "We can also [\"factor out\" the nots](https://en.wikipedia.org/wiki/De_Morgan%27s_laws) to get:\n",
       "\n",
       "```python\n",
       "return not (ketchup or mustard or onion)\n",
       "```"
      ],
      "text/plain": [
       "Correct: \n",
       "\n",
       "One solution looks like:\n",
       "```python\n",
       "return not ketchup and not mustard and not onion\n",
       "```\n",
       "\n",
       "We can also [\"factor out\" the nots](https://en.wikipedia.org/wiki/De_Morgan%27s_laws) to get:\n",
       "\n",
       "```python\n",
       "return not (ketchup or mustard or onion)\n",
       "```"
      ]
     },
     "metadata": {},
     "output_type": "display_data"
    }
   ],
   "source": [
    "def wants_plain_hotdog(ketchup, mustard, onion):\n",
    "    \"\"\"Return whether the customer wants a plain hot dog with no toppings.\n",
    "    \"\"\"\n",
    "    return not ketchup and not mustard and not onion\n",
    "\n",
    "# Check your answer\n",
    "q5.b.check()"
   ]
  },
  {
   "cell_type": "code",
   "execution_count": 16,
   "id": "bc50d8f5",
   "metadata": {
    "execution": {
     "iopub.execute_input": "2022-09-13T00:12:32.058010Z",
     "iopub.status.busy": "2022-09-13T00:12:32.057585Z",
     "iopub.status.idle": "2022-09-13T00:12:32.062681Z",
     "shell.execute_reply": "2022-09-13T00:12:32.061113Z"
    },
    "papermill": {
     "duration": 0.021288,
     "end_time": "2022-09-13T00:12:32.065853",
     "exception": false,
     "start_time": "2022-09-13T00:12:32.044565",
     "status": "completed"
    },
    "tags": []
   },
   "outputs": [],
   "source": [
    "#q5.b.hint()\n",
    "#q5.b.solution()"
   ]
  },
  {
   "cell_type": "markdown",
   "id": "8ebaa1d2",
   "metadata": {
    "papermill": {
     "duration": 0.012278,
     "end_time": "2022-09-13T00:12:32.093952",
     "exception": false,
     "start_time": "2022-09-13T00:12:32.081674",
     "status": "completed"
    },
    "tags": []
   },
   "source": [
    "# 5c.\n",
    "\n",
    "You know what to do: for the next function, fill in the body to match the English description in the docstring."
   ]
  },
  {
   "cell_type": "code",
   "execution_count": 17,
   "id": "a4f965ea",
   "metadata": {
    "execution": {
     "iopub.execute_input": "2022-09-13T00:12:32.127741Z",
     "iopub.status.busy": "2022-09-13T00:12:32.127256Z",
     "iopub.status.idle": "2022-09-13T00:12:32.138707Z",
     "shell.execute_reply": "2022-09-13T00:12:32.137428Z"
    },
    "papermill": {
     "duration": 0.032945,
     "end_time": "2022-09-13T00:12:32.141198",
     "exception": false,
     "start_time": "2022-09-13T00:12:32.108253",
     "status": "completed"
    },
    "tags": []
   },
   "outputs": [
    {
     "data": {
      "application/javascript": [
       "parent.postMessage({\"jupyterEvent\": \"custom.exercise_interaction\", \"data\": {\"outcomeType\": 1, \"valueTowardsCompletion\": 0.2, \"interactionType\": 1, \"questionType\": 2, \"questionId\": \"5.3_OneSauce\", \"learnToolsVersion\": \"0.3.4\", \"failureMessage\": \"\", \"exceptionClass\": \"\", \"trace\": \"\"}}, \"*\")"
      ],
      "text/plain": [
       "<IPython.core.display.Javascript object>"
      ]
     },
     "metadata": {},
     "output_type": "display_data"
    },
    {
     "data": {
      "text/markdown": [
       "<span style=\"color:#33cc33\">Correct</span>"
      ],
      "text/plain": [
       "Correct"
      ]
     },
     "metadata": {},
     "output_type": "display_data"
    }
   ],
   "source": [
    "def exactly_one_sauce(ketchup, mustard, onion):\n",
    "    \"\"\"Return whether the customer wants either ketchup or mustard, but not both.\n",
    "    (You may be familiar with this operation under the name \"exclusive or\")\n",
    "    \"\"\"\n",
    "    return (ketchup and not mustard) or (mustard and not ketchup)\n",
    "\n",
    "# Check your answer\n",
    "q5.c.check()"
   ]
  },
  {
   "cell_type": "code",
   "execution_count": 18,
   "id": "42d2910c",
   "metadata": {
    "execution": {
     "iopub.execute_input": "2022-09-13T00:12:32.166981Z",
     "iopub.status.busy": "2022-09-13T00:12:32.166558Z",
     "iopub.status.idle": "2022-09-13T00:12:32.170228Z",
     "shell.execute_reply": "2022-09-13T00:12:32.169479Z"
    },
    "papermill": {
     "duration": 0.020299,
     "end_time": "2022-09-13T00:12:32.173294",
     "exception": false,
     "start_time": "2022-09-13T00:12:32.152995",
     "status": "completed"
    },
    "tags": []
   },
   "outputs": [],
   "source": [
    "#q5.c.hint()\n",
    "#q5.c.solution()"
   ]
  },
  {
   "cell_type": "markdown",
   "id": "ed9d4ccc",
   "metadata": {
    "papermill": {
     "duration": 0.011937,
     "end_time": "2022-09-13T00:12:32.201624",
     "exception": false,
     "start_time": "2022-09-13T00:12:32.189687",
     "status": "completed"
    },
    "tags": []
   },
   "source": [
    "# 6. <span title=\"A bit spicy\" style=\"color: darkgreen \">🌶️</span>\n",
    "\n",
    "We’ve seen that calling `bool()` on an integer returns `False` if it’s equal to 0 and `True` otherwise. What happens if we call `int()` on a bool? Try it out in the notebook cell below.\n",
    "\n",
    "Can you take advantage of this to write a succinct function that corresponds to the English sentence \"does the customer want exactly one topping?\"?"
   ]
  },
  {
   "cell_type": "code",
   "execution_count": 19,
   "id": "9a640444",
   "metadata": {
    "execution": {
     "iopub.execute_input": "2022-09-13T00:12:32.230814Z",
     "iopub.status.busy": "2022-09-13T00:12:32.229861Z",
     "iopub.status.idle": "2022-09-13T00:12:32.240483Z",
     "shell.execute_reply": "2022-09-13T00:12:32.239505Z"
    },
    "papermill": {
     "duration": 0.02958,
     "end_time": "2022-09-13T00:12:32.242863",
     "exception": false,
     "start_time": "2022-09-13T00:12:32.213283",
     "status": "completed"
    },
    "tags": []
   },
   "outputs": [
    {
     "data": {
      "application/javascript": [
       "parent.postMessage({\"jupyterEvent\": \"custom.exercise_interaction\", \"data\": {\"outcomeType\": 1, \"valueTowardsCompletion\": 0.2, \"interactionType\": 1, \"questionType\": 2, \"questionId\": \"6_OneTopping\", \"learnToolsVersion\": \"0.3.4\", \"failureMessage\": \"\", \"exceptionClass\": \"\", \"trace\": \"\"}}, \"*\")"
      ],
      "text/plain": [
       "<IPython.core.display.Javascript object>"
      ]
     },
     "metadata": {},
     "output_type": "display_data"
    },
    {
     "data": {
      "text/markdown": [
       "<span style=\"color:#33cc33\">Correct:</span> \n",
       "\n",
       "This condition would be pretty complicated to express using just `and`, `or` and `not`, but using boolean-to-integer conversion gives us this short solution:\n",
       "```python\n",
       "return (int(ketchup) + int(mustard) + int(onion)) == 1\n",
       "```\n",
       "\n",
       "Fun fact: we don't technically need to call `int` on the arguments. Just by doing addition with booleans, Python implicitly does the integer conversion. So we could also write...\n",
       "\n",
       "```python\n",
       "return (ketchup + mustard + onion) == 1\n",
       "```"
      ],
      "text/plain": [
       "Correct: \n",
       "\n",
       "This condition would be pretty complicated to express using just `and`, `or` and `not`, but using boolean-to-integer conversion gives us this short solution:\n",
       "```python\n",
       "return (int(ketchup) + int(mustard) + int(onion)) == 1\n",
       "```\n",
       "\n",
       "Fun fact: we don't technically need to call `int` on the arguments. Just by doing addition with booleans, Python implicitly does the integer conversion. So we could also write...\n",
       "\n",
       "```python\n",
       "return (ketchup + mustard + onion) == 1\n",
       "```"
      ]
     },
     "metadata": {},
     "output_type": "display_data"
    }
   ],
   "source": [
    "def exactly_one_topping(ketchup, mustard, onion):\n",
    "    \"\"\"Return whether the customer wants exactly one of the three available toppings\n",
    "    on their hot dog.\n",
    "    \"\"\"\n",
    "    return (ketchup + mustard + onion) == 1\n",
    "\n",
    "# Check your answer\n",
    "q6.check()"
   ]
  },
  {
   "cell_type": "code",
   "execution_count": 20,
   "id": "eb9ee824",
   "metadata": {
    "execution": {
     "iopub.execute_input": "2022-09-13T00:12:32.270088Z",
     "iopub.status.busy": "2022-09-13T00:12:32.269315Z",
     "iopub.status.idle": "2022-09-13T00:12:32.273779Z",
     "shell.execute_reply": "2022-09-13T00:12:32.273005Z"
    },
    "papermill": {
     "duration": 0.020167,
     "end_time": "2022-09-13T00:12:32.276072",
     "exception": false,
     "start_time": "2022-09-13T00:12:32.255905",
     "status": "completed"
    },
    "tags": []
   },
   "outputs": [],
   "source": [
    "#q6.hint()\n",
    "#q6.solution()"
   ]
  },
  {
   "cell_type": "markdown",
   "id": "b508fef2",
   "metadata": {
    "papermill": {
     "duration": 0.011421,
     "end_time": "2022-09-13T00:12:32.299376",
     "exception": false,
     "start_time": "2022-09-13T00:12:32.287955",
     "status": "completed"
    },
    "tags": []
   },
   "source": [
    "# 7. <span title=\"A bit spicy\" style=\"color: darkgreen \">🌶️</span> (Optional)\n",
    "\n",
    "In this problem we'll be working with a simplified version of [blackjack](https://en.wikipedia.org/wiki/Blackjack) (aka twenty-one). In this version there is one player (who you'll control) and a dealer. Play proceeds as follows:\n",
    "\n",
    "- The player is dealt two face-up cards. The dealer is dealt one face-up card.\n",
    "- The player may ask to be dealt another card ('hit') as many times as they wish. If the sum of their cards exceeds 21, they lose the round immediately.\n",
    "- The dealer then deals additional cards to himself until either:\n",
    "    - the sum of the dealer's cards exceeds 21, in which case the player wins the round\n",
    "    - the sum of the dealer's cards is greater than or equal to 17. If the player's total is greater than the dealer's, the player wins. Otherwise, the dealer wins (even in case of a tie).\n",
    "    \n",
    "When calculating the sum of cards, Jack, Queen, and King count for 10. Aces can count as 1 or 11 (when referring to a player's \"total\" above, we mean the largest total that can be made without exceeding 21. So e.g. A+8 = 19, A+8+8 = 17)\n",
    "\n",
    "For this problem, you'll write a function representing the player's decision-making strategy in this game. We've provided a very unintelligent implementation below:"
   ]
  },
  {
   "cell_type": "code",
   "execution_count": 21,
   "id": "a333aed6",
   "metadata": {
    "execution": {
     "iopub.execute_input": "2022-09-13T00:12:32.326351Z",
     "iopub.status.busy": "2022-09-13T00:12:32.325221Z",
     "iopub.status.idle": "2022-09-13T00:12:32.334280Z",
     "shell.execute_reply": "2022-09-13T00:12:32.333334Z"
    },
    "papermill": {
     "duration": 0.025645,
     "end_time": "2022-09-13T00:12:32.336937",
     "exception": false,
     "start_time": "2022-09-13T00:12:32.311292",
     "status": "completed"
    },
    "tags": []
   },
   "outputs": [],
   "source": [
    "def should_hit(dealer_total, player_total, player_low_aces, player_high_aces):\n",
    "    \"\"\"Return True if the player should hit (request another card) given the current game\n",
    "    state, or False if the player should stay.\n",
    "    When calculating a hand's total value, we count aces as \"high\" (with value 11) if doing so\n",
    "    doesn't bring the total above 21, otherwise we count them as low (with value 1). \n",
    "    For example, if the player's hand is {A, A, A, 7}, we will count it as 11 + 1 + 1 + 7,\n",
    "    and therefore set player_total=20, player_low_aces=2, player_high_aces=1.\n",
    "    \"\"\"\n",
    "    player_total = []\n",
    "    dealer_total = []\n",
    "    J = 10\n",
    "    Q = 10\n",
    "    K = 10\n",
    "    A = 1 or 11\n",
    "    def hit(num):\n",
    "        player_total.append(num)\n",
    "        if (player_total + (A==11)) > 21:\n",
    "            return A == 1\n",
    "        if player_total > 21 or dealer_total >= player_total:\n",
    "            return False\n",
    "        return True\n",
    "    def deal(num):\n",
    "        dealer_total.append(num)\n",
    "        if (dealer_total + (A==11)) > 21:\n",
    "            return A == 1\n",
    "        if dealer_total > 21:\n",
    "            return False\n"
   ]
  },
  {
   "cell_type": "markdown",
   "id": "57fd80b4",
   "metadata": {
    "papermill": {
     "duration": 0.015495,
     "end_time": "2022-09-13T00:12:32.365187",
     "exception": false,
     "start_time": "2022-09-13T00:12:32.349692",
     "status": "completed"
    },
    "tags": []
   },
   "source": [
    "This very conservative agent *always* sticks with the hand of two cards that they're dealt.\n",
    "\n",
    "We'll be simulating games between your player agent and our own dealer agent by calling your function.\n",
    "\n",
    "Try running the function below to see an example of a simulated game:"
   ]
  },
  {
   "cell_type": "code",
   "execution_count": 22,
   "id": "f711da6e",
   "metadata": {
    "execution": {
     "iopub.execute_input": "2022-09-13T00:12:32.391261Z",
     "iopub.status.busy": "2022-09-13T00:12:32.390525Z",
     "iopub.status.idle": "2022-09-13T00:12:32.396959Z",
     "shell.execute_reply": "2022-09-13T00:12:32.395587Z"
    },
    "papermill": {
     "duration": 0.022468,
     "end_time": "2022-09-13T00:12:32.399858",
     "exception": false,
     "start_time": "2022-09-13T00:12:32.377390",
     "status": "completed"
    },
    "tags": []
   },
   "outputs": [
    {
     "name": "stdout",
     "output_type": "stream",
     "text": [
      "Player starts with 5 and 3 (total = 8)\n",
      "Dealer starts with Q\n",
      "\n",
      "__Player's turn__\n",
      "Player stays\n",
      "\n",
      "__Dealer's turn__\n",
      "Dealer hits and receives 3. (total = 13)\n",
      "Dealer hits and receives Q. (total = 23)\n",
      "Dealer busts! Player wins.\n"
     ]
    }
   ],
   "source": [
    "q7.simulate_one_game()"
   ]
  },
  {
   "cell_type": "markdown",
   "id": "bfe9835c",
   "metadata": {
    "papermill": {
     "duration": 0.012222,
     "end_time": "2022-09-13T00:12:32.427319",
     "exception": false,
     "start_time": "2022-09-13T00:12:32.415097",
     "status": "completed"
    },
    "tags": []
   },
   "source": [
    "The real test of your agent's mettle is their average win rate over many games. Try calling the function below to simulate 50000 games of blackjack (it may take a couple seconds):"
   ]
  },
  {
   "cell_type": "code",
   "execution_count": 23,
   "id": "3d540b4c",
   "metadata": {
    "execution": {
     "iopub.execute_input": "2022-09-13T00:12:32.460506Z",
     "iopub.status.busy": "2022-09-13T00:12:32.459974Z",
     "iopub.status.idle": "2022-09-13T00:12:34.231463Z",
     "shell.execute_reply": "2022-09-13T00:12:34.230020Z"
    },
    "papermill": {
     "duration": 1.78994,
     "end_time": "2022-09-13T00:12:34.234094",
     "exception": false,
     "start_time": "2022-09-13T00:12:32.444154",
     "status": "completed"
    },
    "tags": []
   },
   "outputs": [
    {
     "name": "stdout",
     "output_type": "stream",
     "text": [
      "Player won 19084 out of 50000 games (win rate = 38.2%)\n"
     ]
    }
   ],
   "source": [
    "q7.simulate(n_games=50000)"
   ]
  },
  {
   "cell_type": "markdown",
   "id": "23dbb0e8",
   "metadata": {
    "papermill": {
     "duration": 0.011575,
     "end_time": "2022-09-13T00:12:34.257897",
     "exception": false,
     "start_time": "2022-09-13T00:12:34.246322",
     "status": "completed"
    },
    "tags": []
   },
   "source": [
    "Our dumb agent that completely ignores the game state still manages to win shockingly often!\n",
    "\n",
    "Try adding some more smarts to the `should_hit` function and see how it affects the results."
   ]
  },
  {
   "cell_type": "code",
   "execution_count": 24,
   "id": "2abe4f40",
   "metadata": {
    "execution": {
     "iopub.execute_input": "2022-09-13T00:12:34.283833Z",
     "iopub.status.busy": "2022-09-13T00:12:34.282844Z",
     "iopub.status.idle": "2022-09-13T00:12:36.158022Z",
     "shell.execute_reply": "2022-09-13T00:12:36.156447Z"
    },
    "papermill": {
     "duration": 1.891422,
     "end_time": "2022-09-13T00:12:36.161154",
     "exception": false,
     "start_time": "2022-09-13T00:12:34.269732",
     "status": "completed"
    },
    "tags": []
   },
   "outputs": [
    {
     "name": "stdout",
     "output_type": "stream",
     "text": [
      "Player won 20710 out of 50000 games (win rate = 41.4%)\n"
     ]
    }
   ],
   "source": [
    "def should_hit(dealer_total, player_total, player_low_aces, player_high_aces):\n",
    "    \"\"\"Return True if the player should hit (request another card) given the current game\n",
    "    state, or False if the player should stay.\n",
    "    When calculating a hand's total value, we count aces as \"high\" (with value 11) if doing so\n",
    "    doesn't bring the total above 21, otherwise we count them as low (with value 1). \n",
    "    For example, if the player's hand is {A, A, A, 7}, we will count it as 11 + 1 + 1 + 7,\n",
    "    and therefore set player_total=20, player_low_aces=2, player_high_aces=1.\n",
    "    \"\"\"\n",
    "    if player_total >= 21:\n",
    "        return False\n",
    "    elif player_total <= 13:\n",
    "        return True\n",
    "    elif dealer_total >= 17:\n",
    "        return True\n",
    "\n",
    "q7.simulate(n_games=50000)"
   ]
  },
  {
   "cell_type": "markdown",
   "id": "0edec14c",
   "metadata": {
    "papermill": {
     "duration": 0.012196,
     "end_time": "2022-09-13T00:12:36.185959",
     "exception": false,
     "start_time": "2022-09-13T00:12:36.173763",
     "status": "completed"
    },
    "tags": []
   },
   "source": [
    "# Keep Going\n",
    "\n",
    "Learn about **[lists and tuples](https://www.kaggle.com/colinmorris/lists)** to handle multiple items of data in a systematic way."
   ]
  },
  {
   "cell_type": "markdown",
   "id": "c52094d3",
   "metadata": {
    "papermill": {
     "duration": 0.011597,
     "end_time": "2022-09-13T00:12:36.209540",
     "exception": false,
     "start_time": "2022-09-13T00:12:36.197943",
     "status": "completed"
    },
    "tags": []
   },
   "source": [
    "---\n",
    "\n",
    "\n",
    "\n",
    "\n",
    "*Have questions or comments? Visit the [course discussion forum](https://www.kaggle.com/learn/python/discussion) to chat with other learners.*"
   ]
  }
 ],
 "metadata": {
  "kernelspec": {
   "display_name": "Python 3",
   "language": "python",
   "name": "python3"
  },
  "language_info": {
   "codemirror_mode": {
    "name": "ipython",
    "version": 3
   },
   "file_extension": ".py",
   "mimetype": "text/x-python",
   "name": "python",
   "nbconvert_exporter": "python",
   "pygments_lexer": "ipython3",
   "version": "3.7.12"
  },
  "papermill": {
   "default_parameters": {},
   "duration": 14.978131,
   "end_time": "2022-09-13T00:12:36.843067",
   "environment_variables": {},
   "exception": null,
   "input_path": "__notebook__.ipynb",
   "output_path": "__notebook__.ipynb",
   "parameters": {},
   "start_time": "2022-09-13T00:12:21.864936",
   "version": "2.3.4"
  }
 },
 "nbformat": 4,
 "nbformat_minor": 5
}
