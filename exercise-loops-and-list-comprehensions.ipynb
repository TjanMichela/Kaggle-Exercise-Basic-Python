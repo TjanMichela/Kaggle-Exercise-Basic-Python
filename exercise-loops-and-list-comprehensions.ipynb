{
 "cells": [
  {
   "cell_type": "markdown",
   "id": "b7221ef0",
   "metadata": {
    "papermill": {
     "duration": 0.00704,
     "end_time": "2022-09-13T06:26:01.995935",
     "exception": false,
     "start_time": "2022-09-13T06:26:01.988895",
     "status": "completed"
    },
    "tags": []
   },
   "source": [
    "**This notebook is an exercise in the [Python](https://www.kaggle.com/learn/python) course.  You can reference the tutorial at [this link](https://www.kaggle.com/colinmorris/loops-and-list-comprehensions).**\n",
    "\n",
    "---\n"
   ]
  },
  {
   "cell_type": "markdown",
   "id": "e8a64272",
   "metadata": {
    "papermill": {
     "duration": 0.005169,
     "end_time": "2022-09-13T06:26:02.006866",
     "exception": false,
     "start_time": "2022-09-13T06:26:02.001697",
     "status": "completed"
    },
    "tags": []
   },
   "source": [
    "With all you've learned, you can start writing much more interesting programs. See if you can solve the problems below.\n",
    "\n",
    "As always, run the setup code below before working on the questions."
   ]
  },
  {
   "cell_type": "code",
   "execution_count": 1,
   "id": "411102da",
   "metadata": {
    "execution": {
     "iopub.execute_input": "2022-09-13T06:26:02.020123Z",
     "iopub.status.busy": "2022-09-13T06:26:02.019672Z",
     "iopub.status.idle": "2022-09-13T06:26:02.084091Z",
     "shell.execute_reply": "2022-09-13T06:26:02.082717Z"
    },
    "papermill": {
     "duration": 0.074623,
     "end_time": "2022-09-13T06:26:02.087025",
     "exception": false,
     "start_time": "2022-09-13T06:26:02.012402",
     "status": "completed"
    },
    "tags": []
   },
   "outputs": [
    {
     "name": "stdout",
     "output_type": "stream",
     "text": [
      "Setup complete.\n"
     ]
    }
   ],
   "source": [
    "from learntools.core import binder; binder.bind(globals())\n",
    "from learntools.python.ex5 import *\n",
    "print('Setup complete.')"
   ]
  },
  {
   "cell_type": "markdown",
   "id": "8ab728ea",
   "metadata": {
    "papermill": {
     "duration": 0.005565,
     "end_time": "2022-09-13T06:26:02.098447",
     "exception": false,
     "start_time": "2022-09-13T06:26:02.092882",
     "status": "completed"
    },
    "tags": []
   },
   "source": [
    "# 1.\n",
    "\n",
    "Have you ever felt debugging involved a bit of luck? The following program has a bug. Try to identify the bug and fix it."
   ]
  },
  {
   "cell_type": "code",
   "execution_count": 2,
   "id": "19247094",
   "metadata": {
    "execution": {
     "iopub.execute_input": "2022-09-13T06:26:02.112756Z",
     "iopub.status.busy": "2022-09-13T06:26:02.111525Z",
     "iopub.status.idle": "2022-09-13T06:26:02.118461Z",
     "shell.execute_reply": "2022-09-13T06:26:02.117269Z"
    },
    "papermill": {
     "duration": 0.016798,
     "end_time": "2022-09-13T06:26:02.120923",
     "exception": false,
     "start_time": "2022-09-13T06:26:02.104125",
     "status": "completed"
    },
    "tags": []
   },
   "outputs": [],
   "source": [
    "def has_lucky_number(nums):\n",
    "    \"\"\"Return whether the given list of numbers is lucky. A lucky list contains\n",
    "    at least one number divisible by 7.\n",
    "    \"\"\"\n",
    "    for num in nums:\n",
    "        if num % 7 == 0:\n",
    "            return True\n",
    "        else:\n",
    "            return False"
   ]
  },
  {
   "cell_type": "markdown",
   "id": "14a7d892",
   "metadata": {
    "papermill": {
     "duration": 0.005583,
     "end_time": "2022-09-13T06:26:02.132363",
     "exception": false,
     "start_time": "2022-09-13T06:26:02.126780",
     "status": "completed"
    },
    "tags": []
   },
   "source": [
    "Try to identify the bug and fix it in the cell below:"
   ]
  },
  {
   "cell_type": "code",
   "execution_count": 3,
   "id": "50d6033a",
   "metadata": {
    "execution": {
     "iopub.execute_input": "2022-09-13T06:26:02.145826Z",
     "iopub.status.busy": "2022-09-13T06:26:02.145362Z",
     "iopub.status.idle": "2022-09-13T06:26:02.156737Z",
     "shell.execute_reply": "2022-09-13T06:26:02.155922Z"
    },
    "papermill": {
     "duration": 0.02042,
     "end_time": "2022-09-13T06:26:02.158743",
     "exception": false,
     "start_time": "2022-09-13T06:26:02.138323",
     "status": "completed"
    },
    "tags": []
   },
   "outputs": [
    {
     "data": {
      "application/javascript": [
       "parent.postMessage({\"jupyterEvent\": \"custom.exercise_interaction\", \"data\": {\"outcomeType\": 1, \"valueTowardsCompletion\": 0.25, \"interactionType\": 1, \"questionType\": 2, \"questionId\": \"1_EarlyExitDebugging\", \"learnToolsVersion\": \"0.3.4\", \"failureMessage\": \"\", \"exceptionClass\": \"\", \"trace\": \"\"}}, \"*\")"
      ],
      "text/plain": [
       "<IPython.core.display.Javascript object>"
      ]
     },
     "metadata": {},
     "output_type": "display_data"
    },
    {
     "data": {
      "text/markdown": [
       "<span style=\"color:#33cc33\">Correct:</span> \n",
       "\n",
       "Remember that `return` causes a function to exit immediately. So our original implementation always ran for just one iteration. We can only return `False` if we've looked at every element of the list (and confirmed that none of them are lucky). Though we can return early if the answer is `True`:\n",
       "\n",
       "```python\n",
       "def has_lucky_number(nums):\n",
       "    for num in nums:\n",
       "        if num % 7 == 0:\n",
       "            return True\n",
       "    # We've exhausted the list without finding a lucky number\n",
       "    return False\n",
       "```\n",
       "\n",
       "Here's a one-line version using a list comprehension with Python's `any` function (you can read about what it does by calling `help(any)`):\n",
       "\n",
       "```python\n",
       "def has_lucky_number(nums):\n",
       "    return any([num % 7 == 0 for num in nums])\n",
       "```\n"
      ],
      "text/plain": [
       "Correct: \n",
       "\n",
       "Remember that `return` causes a function to exit immediately. So our original implementation always ran for just one iteration. We can only return `False` if we've looked at every element of the list (and confirmed that none of them are lucky). Though we can return early if the answer is `True`:\n",
       "\n",
       "```python\n",
       "def has_lucky_number(nums):\n",
       "    for num in nums:\n",
       "        if num % 7 == 0:\n",
       "            return True\n",
       "    # We've exhausted the list without finding a lucky number\n",
       "    return False\n",
       "```\n",
       "\n",
       "Here's a one-line version using a list comprehension with Python's `any` function (you can read about what it does by calling `help(any)`):\n",
       "\n",
       "```python\n",
       "def has_lucky_number(nums):\n",
       "    return any([num % 7 == 0 for num in nums])\n",
       "```"
      ]
     },
     "metadata": {},
     "output_type": "display_data"
    }
   ],
   "source": [
    "def has_lucky_number(nums):\n",
    "    \"\"\"Return whether the given list of numbers is lucky. A lucky list contains\n",
    "    at least one number divisible by 7.\n",
    "    \"\"\"\n",
    "    for num in nums:\n",
    "        if num % 7 == 0:\n",
    "            return True\n",
    "    return False\n",
    "        \n",
    "# Check your answer\n",
    "q1.check()"
   ]
  },
  {
   "cell_type": "code",
   "execution_count": 4,
   "id": "4f6539f6",
   "metadata": {
    "execution": {
     "iopub.execute_input": "2022-09-13T06:26:02.172920Z",
     "iopub.status.busy": "2022-09-13T06:26:02.172465Z",
     "iopub.status.idle": "2022-09-13T06:26:02.177335Z",
     "shell.execute_reply": "2022-09-13T06:26:02.176035Z"
    },
    "papermill": {
     "duration": 0.014996,
     "end_time": "2022-09-13T06:26:02.179813",
     "exception": false,
     "start_time": "2022-09-13T06:26:02.164817",
     "status": "completed"
    },
    "tags": []
   },
   "outputs": [],
   "source": [
    "#q1.hint()\n",
    "#q1.solution()"
   ]
  },
  {
   "cell_type": "markdown",
   "id": "cad3c0c5",
   "metadata": {
    "papermill": {
     "duration": 0.005571,
     "end_time": "2022-09-13T06:26:02.191552",
     "exception": false,
     "start_time": "2022-09-13T06:26:02.185981",
     "status": "completed"
    },
    "tags": []
   },
   "source": [
    "# 2.\n",
    "Look at the Python expression below. What do you think we'll get when we run it? When you've made your prediction, uncomment the code and run the cell to see if you were right."
   ]
  },
  {
   "cell_type": "code",
   "execution_count": 5,
   "id": "91d553a1",
   "metadata": {
    "execution": {
     "iopub.execute_input": "2022-09-13T06:26:02.205911Z",
     "iopub.status.busy": "2022-09-13T06:26:02.205181Z",
     "iopub.status.idle": "2022-09-13T06:26:02.277427Z",
     "shell.execute_reply": "2022-09-13T06:26:02.275587Z"
    },
    "papermill": {
     "duration": 0.08195,
     "end_time": "2022-09-13T06:26:02.279915",
     "exception": true,
     "start_time": "2022-09-13T06:26:02.197965",
     "status": "failed"
    },
    "tags": []
   },
   "outputs": [
    {
     "ename": "TypeError",
     "evalue": "'>' not supported between instances of 'list' and 'int'",
     "output_type": "error",
     "traceback": [
      "\u001b[0;31m---------------------------------------------------------------------------\u001b[0m",
      "\u001b[0;31mTypeError\u001b[0m                                 Traceback (most recent call last)",
      "\u001b[0;32m/tmp/ipykernel_19/3401052631.py\u001b[0m in \u001b[0;36m<module>\u001b[0;34m\u001b[0m\n\u001b[0;32m----> 1\u001b[0;31m \u001b[0;34m[\u001b[0m\u001b[0;36m1\u001b[0m\u001b[0;34m,\u001b[0m \u001b[0;36m2\u001b[0m\u001b[0;34m,\u001b[0m \u001b[0;36m3\u001b[0m\u001b[0;34m,\u001b[0m \u001b[0;36m4\u001b[0m\u001b[0;34m]\u001b[0m \u001b[0;34m>\u001b[0m \u001b[0;36m2\u001b[0m\u001b[0;34m\u001b[0m\u001b[0;34m\u001b[0m\u001b[0m\n\u001b[0m",
      "\u001b[0;31mTypeError\u001b[0m: '>' not supported between instances of 'list' and 'int'"
     ]
    }
   ],
   "source": [
    "[1, 2, 3, 4] > 2"
   ]
  },
  {
   "cell_type": "markdown",
   "id": "76388ae3",
   "metadata": {
    "papermill": {
     "duration": null,
     "end_time": null,
     "exception": null,
     "start_time": null,
     "status": "pending"
    },
    "tags": []
   },
   "source": [
    "R and Python have some libraries (like numpy and pandas) compare each element of the list to 2 (i.e. do an 'element-wise' comparison) and give us a list of booleans like `[False, False, True, True]`. \n",
    "\n",
    "Implement a function that reproduces this behaviour, returning a list of booleans corresponding to whether the corresponding element is greater than n."
   ]
  },
  {
   "cell_type": "code",
   "execution_count": null,
   "id": "4c6815fb",
   "metadata": {
    "execution": {
     "iopub.execute_input": "2022-09-13T03:48:10.523453Z",
     "iopub.status.busy": "2022-09-13T03:48:10.522955Z",
     "iopub.status.idle": "2022-09-13T03:48:10.534979Z",
     "shell.execute_reply": "2022-09-13T03:48:10.533853Z",
     "shell.execute_reply.started": "2022-09-13T03:48:10.523414Z"
    },
    "papermill": {
     "duration": null,
     "end_time": null,
     "exception": null,
     "start_time": null,
     "status": "pending"
    },
    "tags": []
   },
   "outputs": [],
   "source": [
    "def elementwise_greater_than(L, thresh):\n",
    "    \"\"\"Return a list with the same length as L, where the value at index i is \n",
    "    True if L[i] is greater than thresh, and False otherwise.\n",
    "    \n",
    "    >>> elementwise_greater_than([1, 2, 3, 4], 2)\n",
    "    [False, False, True, True]\n",
    "    \"\"\"\n",
    "    li = []\n",
    "    for i in L:\n",
    "        if L[L.index(i)] > thresh:\n",
    "            li.append(True)\n",
    "        else:\n",
    "            li.append(False)\n",
    "    return li\n",
    "\n",
    "# Check your answer\n",
    "q2.check()"
   ]
  },
  {
   "cell_type": "code",
   "execution_count": null,
   "id": "8b343f77",
   "metadata": {
    "papermill": {
     "duration": null,
     "end_time": null,
     "exception": null,
     "start_time": null,
     "status": "pending"
    },
    "tags": []
   },
   "outputs": [],
   "source": [
    "#q2.solution()"
   ]
  },
  {
   "cell_type": "markdown",
   "id": "6b86c0ae",
   "metadata": {
    "papermill": {
     "duration": null,
     "end_time": null,
     "exception": null,
     "start_time": null,
     "status": "pending"
    },
    "tags": []
   },
   "source": [
    "# 3.\n",
    "\n",
    "Complete the body of the function below according to its docstring."
   ]
  },
  {
   "cell_type": "code",
   "execution_count": null,
   "id": "8168738f",
   "metadata": {
    "execution": {
     "iopub.execute_input": "2022-09-13T03:52:51.230868Z",
     "iopub.status.busy": "2022-09-13T03:52:51.230462Z",
     "iopub.status.idle": "2022-09-13T03:52:51.241725Z",
     "shell.execute_reply": "2022-09-13T03:52:51.240376Z",
     "shell.execute_reply.started": "2022-09-13T03:52:51.230839Z"
    },
    "papermill": {
     "duration": null,
     "end_time": null,
     "exception": null,
     "start_time": null,
     "status": "pending"
    },
    "tags": []
   },
   "outputs": [],
   "source": [
    "def menu_is_boring(meals):\n",
    "    \"\"\"Given a list of meals served over some period of time, return True if the\n",
    "    same meal has ever been served two days in a row, and False otherwise.\n",
    "    \"\"\"\n",
    "    for food in range(len(meals) - 1):\n",
    "        if meals[food] == meals[food+1]:\n",
    "            return True\n",
    "    return False\n",
    "\n",
    "# Check your answer\n",
    "q3.check()"
   ]
  },
  {
   "cell_type": "code",
   "execution_count": null,
   "id": "49718009",
   "metadata": {
    "execution": {
     "iopub.execute_input": "2022-09-13T03:50:38.131587Z",
     "iopub.status.busy": "2022-09-13T03:50:38.130655Z",
     "iopub.status.idle": "2022-09-13T03:50:38.140583Z",
     "shell.execute_reply": "2022-09-13T03:50:38.139388Z",
     "shell.execute_reply.started": "2022-09-13T03:50:38.131540Z"
    },
    "papermill": {
     "duration": null,
     "end_time": null,
     "exception": null,
     "start_time": null,
     "status": "pending"
    },
    "tags": []
   },
   "outputs": [],
   "source": [
    "#q3.hint()\n",
    "#q3.solution()"
   ]
  },
  {
   "cell_type": "markdown",
   "id": "8c480154",
   "metadata": {
    "papermill": {
     "duration": null,
     "end_time": null,
     "exception": null,
     "start_time": null,
     "status": "pending"
    },
    "tags": []
   },
   "source": [
    "# 4. <span title=\"A bit spicy\" style=\"color: darkgreen \">🌶️</span>\n",
    "\n",
    "Next to the Blackjack table, the Python Challenge Casino has a slot machine. You can get a result from the slot machine by calling `play_slot_machine()`. The number it returns is your winnings in dollars. Usually it returns 0.  But sometimes you'll get lucky and get a big payday. Try running it below:"
   ]
  },
  {
   "cell_type": "code",
   "execution_count": null,
   "id": "10f652dc",
   "metadata": {
    "execution": {
     "iopub.execute_input": "2022-09-13T03:53:08.058882Z",
     "iopub.status.busy": "2022-09-13T03:53:08.058190Z",
     "iopub.status.idle": "2022-09-13T03:53:08.067221Z",
     "shell.execute_reply": "2022-09-13T03:53:08.065689Z",
     "shell.execute_reply.started": "2022-09-13T03:53:08.058818Z"
    },
    "papermill": {
     "duration": null,
     "end_time": null,
     "exception": null,
     "start_time": null,
     "status": "pending"
    },
    "tags": []
   },
   "outputs": [],
   "source": [
    "play_slot_machine()"
   ]
  },
  {
   "cell_type": "markdown",
   "id": "c6beb725",
   "metadata": {
    "papermill": {
     "duration": null,
     "end_time": null,
     "exception": null,
     "start_time": null,
     "status": "pending"
    },
    "tags": []
   },
   "source": [
    "By the way, did we mention that each play costs $1? Don't worry, we'll send you the bill later.\n",
    "\n",
    "On average, how much money can you expect to gain (or lose) every time you play the machine?  The casino keeps it a secret, but you can estimate the average value of each pull using a technique called the **Monte Carlo method**. To estimate the average outcome, we simulate the scenario many times, and return the average result.\n",
    "\n",
    "Complete the following function to calculate the average value per play of the slot machine."
   ]
  },
  {
   "cell_type": "code",
   "execution_count": null,
   "id": "257850a4",
   "metadata": {
    "execution": {
     "iopub.execute_input": "2022-09-13T06:10:31.322995Z",
     "iopub.status.busy": "2022-09-13T06:10:31.322590Z",
     "iopub.status.idle": "2022-09-13T06:10:35.291064Z",
     "shell.execute_reply": "2022-09-13T06:10:35.290168Z",
     "shell.execute_reply.started": "2022-09-13T06:10:31.322961Z"
    },
    "papermill": {
     "duration": null,
     "end_time": null,
     "exception": null,
     "start_time": null,
     "status": "pending"
    },
    "tags": []
   },
   "outputs": [],
   "source": [
    "def estimate_average_slot_payout(n_runs):\n",
    "    \"\"\"Run the slot machine n_runs times and return the average net profit per run.\n",
    "    Example calls (note that return value is nondeterministic!):\n",
    "    >>> estimate_average_slot_payout(1)\n",
    "    -1\n",
    "    >>> estimate_average_slot_payout(1)\n",
    "    0.5\n",
    "    \"\"\"\n",
    "    payout = [play_slot_machine()-1 for i in range(n_runs)]\n",
    "    avg_payout = sum(payout)/n_runs\n",
    "    return avg_payout\n",
    "\n",
    "estimate_average_slot_payout(10000000)"
   ]
  },
  {
   "cell_type": "markdown",
   "id": "69dfd4b4",
   "metadata": {
    "papermill": {
     "duration": null,
     "end_time": null,
     "exception": null,
     "start_time": null,
     "status": "pending"
    },
    "tags": []
   },
   "source": [
    "When you think you know the expected value per spin, run the code cell below to view the solution and get credit for answering the question."
   ]
  },
  {
   "cell_type": "code",
   "execution_count": null,
   "id": "d232527c",
   "metadata": {
    "execution": {
     "iopub.execute_input": "2022-09-13T06:10:45.366686Z",
     "iopub.status.busy": "2022-09-13T06:10:45.366239Z",
     "iopub.status.idle": "2022-09-13T06:10:45.376374Z",
     "shell.execute_reply": "2022-09-13T06:10:45.375567Z",
     "shell.execute_reply.started": "2022-09-13T06:10:45.366644Z"
    },
    "papermill": {
     "duration": null,
     "end_time": null,
     "exception": null,
     "start_time": null,
     "status": "pending"
    },
    "tags": []
   },
   "outputs": [],
   "source": [
    "# Check your answer (Run this code cell to receive credit!)\n",
    "q4.solution()"
   ]
  },
  {
   "cell_type": "markdown",
   "id": "1af3fd2f",
   "metadata": {
    "papermill": {
     "duration": null,
     "end_time": null,
     "exception": null,
     "start_time": null,
     "status": "pending"
    },
    "tags": []
   },
   "source": [
    "# Keep Going\n",
    "\n",
    "Many programmers report that dictionaries are their favorite data structure. You'll get to **[learn about them](https://www.kaggle.com/colinmorris/strings-and-dictionaries)** (as well as strings) in the next lesson."
   ]
  },
  {
   "cell_type": "markdown",
   "id": "63c05446",
   "metadata": {
    "papermill": {
     "duration": null,
     "end_time": null,
     "exception": null,
     "start_time": null,
     "status": "pending"
    },
    "tags": []
   },
   "source": [
    "---\n",
    "\n",
    "\n",
    "\n",
    "\n",
    "*Have questions or comments? Visit the [course discussion forum](https://www.kaggle.com/learn/python/discussion) to chat with other learners.*"
   ]
  }
 ],
 "metadata": {
  "kernelspec": {
   "display_name": "Python 3",
   "language": "python",
   "name": "python3"
  },
  "language_info": {
   "codemirror_mode": {
    "name": "ipython",
    "version": 3
   },
   "file_extension": ".py",
   "mimetype": "text/x-python",
   "name": "python",
   "nbconvert_exporter": "python",
   "pygments_lexer": "ipython3",
   "version": "3.7.12"
  },
  "papermill": {
   "default_parameters": {},
   "duration": 10.836292,
   "end_time": "2022-09-13T06:26:03.008840",
   "environment_variables": {},
   "exception": true,
   "input_path": "__notebook__.ipynb",
   "output_path": "__notebook__.ipynb",
   "parameters": {},
   "start_time": "2022-09-13T06:25:52.172548",
   "version": "2.3.4"
  }
 },
 "nbformat": 4,
 "nbformat_minor": 5
}
